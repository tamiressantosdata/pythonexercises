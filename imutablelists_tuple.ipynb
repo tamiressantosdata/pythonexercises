{
 "cells": [
  {
   "cell_type": "code",
   "execution_count": 1,
   "id": "6744156c-2c50-444d-959c-cf56e53c6e1b",
   "metadata": {},
   "outputs": [],
   "source": [
    " a = (10, 'alpha', [1, 2])"
   ]
  },
  {
   "cell_type": "code",
   "execution_count": 2,
   "id": "55f97c24-1c03-4981-88ce-d08f9d3572bf",
   "metadata": {},
   "outputs": [],
   "source": [
    " b = (10, 'alpha', [1, 2])"
   ]
  },
  {
   "cell_type": "code",
   "execution_count": 3,
   "id": "80e8adb8-a9aa-42c8-a862-f54139ef760c",
   "metadata": {},
   "outputs": [
    {
     "data": {
      "text/plain": [
       "True"
      ]
     },
     "execution_count": 3,
     "metadata": {},
     "output_type": "execute_result"
    }
   ],
   "source": [
    "a == b"
   ]
  },
  {
   "cell_type": "code",
   "execution_count": 4,
   "id": "c20cc6da-4f08-4eac-bb54-3f039560b2a6",
   "metadata": {},
   "outputs": [],
   "source": [
    "b[-1].append(99)"
   ]
  },
  {
   "cell_type": "code",
   "execution_count": 5,
   "id": "840a3f82-aa9a-4ad9-9b87-421c69ada79e",
   "metadata": {},
   "outputs": [
    {
     "data": {
      "text/plain": [
       "(10, 'alpha', [1, 2, 99])"
      ]
     },
     "execution_count": 5,
     "metadata": {},
     "output_type": "execute_result"
    }
   ],
   "source": [
    "b"
   ]
  },
  {
   "cell_type": "code",
   "execution_count": 6,
   "id": "8ac93796-714d-4783-af7e-0f578303a54d",
   "metadata": {},
   "outputs": [
    {
     "data": {
      "text/plain": [
       "False"
      ]
     },
     "execution_count": 6,
     "metadata": {},
     "output_type": "execute_result"
    }
   ],
   "source": [
    "a==b"
   ]
  },
  {
   "cell_type": "code",
   "execution_count": null,
   "id": "5f49ed44-1bd6-4aeb-bd93-73ac5d983a3d",
   "metadata": {},
   "outputs": [],
   "source": []
  }
 ],
 "metadata": {
  "kernelspec": {
   "display_name": "Python 3 (ipykernel)",
   "language": "python",
   "name": "python3"
  },
  "language_info": {
   "codemirror_mode": {
    "name": "ipython",
    "version": 3
   },
   "file_extension": ".py",
   "mimetype": "text/x-python",
   "name": "python",
   "nbconvert_exporter": "python",
   "pygments_lexer": "ipython3",
   "version": "3.9.7"
  }
 },
 "nbformat": 4,
 "nbformat_minor": 5
}
