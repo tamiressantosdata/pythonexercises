{
 "cells": [
  {
   "cell_type": "code",
   "execution_count": 1,
   "id": "54336570-d9f0-4fd0-9d86-f68470594c99",
   "metadata": {},
   "outputs": [],
   "source": [
    "setup = 'a duck goes into a bar...'"
   ]
  },
  {
   "cell_type": "code",
   "execution_count": 2,
   "id": "ecd280e9-b311-49c3-81e0-ba5136c60c14",
   "metadata": {},
   "outputs": [
    {
     "data": {
      "text/plain": [
       "'a duck goes into a bar'"
      ]
     },
     "execution_count": 2,
     "metadata": {},
     "output_type": "execute_result"
    }
   ],
   "source": [
    "setup.strip('.')\n"
   ]
  },
  {
   "cell_type": "code",
   "execution_count": 4,
   "id": "15a90dc4-a4e9-439b-9655-ba3b33c6930c",
   "metadata": {},
   "outputs": [
    {
     "data": {
      "text/plain": [
       "'A duck goes into a bar...'"
      ]
     },
     "execution_count": 4,
     "metadata": {},
     "output_type": "execute_result"
    }
   ],
   "source": [
    "setup.capitalize()"
   ]
  },
  {
   "cell_type": "code",
   "execution_count": 5,
   "id": "1c0b2e63-fd6f-4385-aa12-9fb90bfc123c",
   "metadata": {},
   "outputs": [
    {
     "data": {
      "text/plain": [
       "'A Duck Goes Into A Bar...'"
      ]
     },
     "execution_count": 5,
     "metadata": {},
     "output_type": "execute_result"
    }
   ],
   "source": [
    "setup.title()"
   ]
  },
  {
   "cell_type": "code",
   "execution_count": 6,
   "id": "e9e27e58-ddd4-4ead-9848-4f38d263464c",
   "metadata": {},
   "outputs": [
    {
     "data": {
      "text/plain": [
       "'A DUCK GOES INTO A BAR...'"
      ]
     },
     "execution_count": 6,
     "metadata": {},
     "output_type": "execute_result"
    }
   ],
   "source": [
    "setup.upper()"
   ]
  },
  {
   "cell_type": "code",
   "execution_count": 7,
   "id": "5836f28a-a607-43fc-8264-c321b2ccb6a6",
   "metadata": {},
   "outputs": [
    {
     "data": {
      "text/plain": [
       "'a duck goes into a bar...'"
      ]
     },
     "execution_count": 7,
     "metadata": {},
     "output_type": "execute_result"
    }
   ],
   "source": [
    "setup.lower()"
   ]
  },
  {
   "cell_type": "code",
   "execution_count": 8,
   "id": "270cce3e-4df4-4c47-a9d7-e0424c66024d",
   "metadata": {},
   "outputs": [
    {
     "data": {
      "text/plain": [
       "'a marmoset goes into a bar...'"
      ]
     },
     "execution_count": 8,
     "metadata": {},
     "output_type": "execute_result"
    }
   ],
   "source": [
    "setup.replace('duck','marmoset')"
   ]
  },
  {
   "cell_type": "code",
   "execution_count": 9,
   "id": "32d34901-f9da-45ec-9758-8054f2a8e688",
   "metadata": {},
   "outputs": [],
   "source": [
    "friends = ['Harry', 'Hermione', 'Ron']\n"
   ]
  },
  {
   "cell_type": "code",
   "execution_count": 10,
   "id": "92d0e966-08b3-4b5b-92c5-1f1614f9aedd",
   "metadata": {},
   "outputs": [],
   "source": [
    "separator = ' * '"
   ]
  },
  {
   "cell_type": "code",
   "execution_count": 15,
   "id": "0cc64231-96b7-4bfc-af44-00421366123e",
   "metadata": {},
   "outputs": [],
   "source": [
    "joined=separator.join(friends)"
   ]
  },
  {
   "cell_type": "code",
   "execution_count": 23,
   "id": "8fdaaa17-4e97-4176-ac86-6445c9ca7180",
   "metadata": {},
   "outputs": [
    {
     "data": {
      "text/plain": [
       "'Harry * Hermione * Ron'"
      ]
     },
     "execution_count": 23,
     "metadata": {},
     "output_type": "execute_result"
    }
   ],
   "source": [
    "joined"
   ]
  },
  {
   "cell_type": "code",
   "execution_count": 24,
   "id": "2ff91dae-2d0c-4e5b-bce5-b4760bd21464",
   "metadata": {},
   "outputs": [],
   "source": [
    "separeted=joined.split(separator)"
   ]
  },
  {
   "cell_type": "code",
   "execution_count": 25,
   "id": "4251b67c-2a73-412c-b0c5-de019af8ad71",
   "metadata": {},
   "outputs": [
    {
     "data": {
      "text/plain": [
       "['Harry', 'Hermione', 'Ron']"
      ]
     },
     "execution_count": 25,
     "metadata": {},
     "output_type": "execute_result"
    }
   ],
   "source": [
    "separeted"
   ]
  },
  {
   "cell_type": "code",
   "execution_count": 26,
   "id": "a40e18d8-08f3-4758-90c9-7d1592877c3c",
   "metadata": {},
   "outputs": [
    {
     "data": {
      "text/plain": [
       "True"
      ]
     },
     "execution_count": 26,
     "metadata": {},
     "output_type": "execute_result"
    }
   ],
   "source": [
    "separeted == friends"
   ]
  },
  {
   "cell_type": "code",
   "execution_count": 27,
   "id": "d4ed763f-8205-4343-95c9-51fd691167a5",
   "metadata": {},
   "outputs": [],
   "source": [
    "marx_list = ['Groucho', 'Chico', 'Harpo']"
   ]
  },
  {
   "cell_type": "code",
   "execution_count": 28,
   "id": "c576bfdb-a5de-4aa4-b810-f9402e6b7a07",
   "metadata": {},
   "outputs": [],
   "source": [
    "marx_tuple=('Groucho','Chico', 'Harpo')"
   ]
  },
  {
   "cell_type": "code",
   "execution_count": 29,
   "id": "34283c3b-13d4-4764-a4e4-646522762195",
   "metadata": {},
   "outputs": [],
   "source": [
    "marx_dict = {'Groucho': 'banjo', 'Chico': 'piano', 'Harpo': 'harp'}\n"
   ]
  },
  {
   "cell_type": "code",
   "execution_count": 30,
   "id": "ef5fee40-5a29-47bd-bbdc-8157bf4f09a7",
   "metadata": {},
   "outputs": [
    {
     "data": {
      "text/plain": [
       "'Harpo'"
      ]
     },
     "execution_count": 30,
     "metadata": {},
     "output_type": "execute_result"
    }
   ],
   "source": [
    "marx_list[2]"
   ]
  },
  {
   "cell_type": "code",
   "execution_count": 32,
   "id": "6fb20e5d-e3a9-4557-8cae-cbb658b35d0c",
   "metadata": {},
   "outputs": [
    {
     "data": {
      "text/plain": [
       "'Harpo'"
      ]
     },
     "execution_count": 32,
     "metadata": {},
     "output_type": "execute_result"
    }
   ],
   "source": [
    "marx_tuple[2]"
   ]
  },
  {
   "cell_type": "code",
   "execution_count": 34,
   "id": "59c873a8-2622-4e05-b251-aef482bbe14e",
   "metadata": {},
   "outputs": [
    {
     "data": {
      "text/plain": [
       "'harp'"
      ]
     },
     "execution_count": 34,
     "metadata": {},
     "output_type": "execute_result"
    }
   ],
   "source": [
    "marx_dict[\"Harpo\"]"
   ]
  },
  {
   "cell_type": "code",
   "execution_count": 37,
   "id": "5f256027-0119-4974-adef-239e5fe96d7b",
   "metadata": {},
   "outputs": [
    {
     "name": "stdout",
     "output_type": "stream",
     "text": [
      "There is no cheese\n"
     ]
    }
   ],
   "source": [
    "cheeses=[]\n",
    "for cheese in cheeses:\n",
    "    print('this shop has some lovely', chesse)\n",
    "    break \n",
    "else:\n",
    "    print('There is no cheese')"
   ]
  },
  {
   "cell_type": "code",
   "execution_count": 54,
   "id": "89139307-3022-4327-814e-635f7f9ecade",
   "metadata": {},
   "outputs": [
    {
     "name": "stdout",
     "output_type": "stream",
     "text": [
      "Monday : drink coffee - eat banana - enjoy tiramisu\n",
      "Tuesday : drink tea - eat orange - enjoy ice cream\n",
      "Wednesday : drink beer - eat peach - enjoy pie\n"
     ]
    }
   ],
   "source": [
    "days = ['Monday', 'Tuesday', 'Wednesday']\n",
    "fruits = ['banana', 'orange', 'peach']\n",
    "drinks = ['coffee', 'tea', 'beer']\n",
    "desserts = ['tiramisu', 'ice cream', 'pie', 'pudding']\n",
    "for day, fruit, drink, dessert in zip(days, fruits, drinks, desserts):\n",
    "     print(day, \": drink\", drink, \"- eat\", fruit, \"- enjoy\", dessert)\n",
    "\n",
    "\n",
    "    "
   ]
  },
  {
   "cell_type": "code",
   "execution_count": 55,
   "id": "d7215e12-c817-4e97-bfb7-4b6ca64397af",
   "metadata": {},
   "outputs": [
    {
     "name": "stdout",
     "output_type": "stream",
     "text": [
      "0\n",
      "1\n",
      "2\n"
     ]
    }
   ],
   "source": [
    "for x in range(0,3):\n",
    "    print(x)\n",
    "    "
   ]
  },
  {
   "cell_type": "code",
   "execution_count": 62,
   "id": "f62b64f5-33a0-421e-be4d-bf258abcf1ab",
   "metadata": {},
   "outputs": [
    {
     "name": "stdout",
     "output_type": "stream",
     "text": [
      "2\n",
      "1\n",
      "0\n"
     ]
    }
   ],
   "source": [
    "for x in range(2,-1,-1):\n",
    "    print(x)"
   ]
  },
  {
   "cell_type": "code",
   "execution_count": 64,
   "id": "ed5c0453-cf35-43f5-b9b8-9630fda3b612",
   "metadata": {},
   "outputs": [
    {
     "data": {
      "text/plain": [
       "[2, 1, 0]"
      ]
     },
     "execution_count": 64,
     "metadata": {},
     "output_type": "execute_result"
    }
   ],
   "source": [
    "list(range(2,-1,-1))"
   ]
  },
  {
   "cell_type": "code",
   "execution_count": 67,
   "id": "45cfd673-c11b-4963-ae73-5fdfd7c26850",
   "metadata": {},
   "outputs": [
    {
     "data": {
      "text/plain": [
       "[0, 2, 4, 6, 8, 10]"
      ]
     },
     "execution_count": 67,
     "metadata": {},
     "output_type": "execute_result"
    }
   ],
   "source": [
    "list(range(0,11,2))"
   ]
  },
  {
   "cell_type": "code",
   "execution_count": 68,
   "id": "06a003a5-3725-4ac0-93e9-2633f8321efb",
   "metadata": {},
   "outputs": [
    {
     "data": {
      "text/plain": [
       "[1, 2, 3, 4, 5]"
      ]
     },
     "execution_count": 68,
     "metadata": {},
     "output_type": "execute_result"
    }
   ],
   "source": [
    "list(range(1,6,1))"
   ]
  },
  {
   "cell_type": "code",
   "execution_count": 70,
   "id": "23bdb5ac-b6a7-4852-9170-d6d111eddf47",
   "metadata": {},
   "outputs": [
    {
     "data": {
      "text/plain": [
       "[1, 2, 3, 4, 5]"
      ]
     },
     "execution_count": 70,
     "metadata": {},
     "output_type": "execute_result"
    }
   ],
   "source": [
    "number_list=[number for number in range(1,6)]\n",
    "number_list\n"
   ]
  },
  {
   "cell_type": "code",
   "execution_count": 76,
   "id": "62cf362b-6f34-4ab5-9d7e-a644e874ea32",
   "metadata": {},
   "outputs": [
    {
     "name": "stdout",
     "output_type": "stream",
     "text": [
      "[1]\n",
      "[1, 3]\n",
      "[1, 3, 5]\n"
     ]
    }
   ],
   "source": [
    "a_list=[]\n",
    "for number in range(1,6):\n",
    "    if number%2==1:\n",
    "        a_list.append(number)\n",
    "        print(a_list)\n",
    "    \n",
    "    \n",
    "    \n",
    "    "
   ]
  },
  {
   "cell_type": "code",
   "execution_count": 79,
   "id": "b59b4f7b-7190-47c6-b92d-c8512c997a71",
   "metadata": {},
   "outputs": [
    {
     "name": "stdout",
     "output_type": "stream",
     "text": [
      "[2]\n",
      "[2, 4]\n"
     ]
    }
   ],
   "source": [
    "a_list=[]\n",
    "for number in range(1,6):\n",
    "    if number%2==0:\n",
    "        a_list.append(number)\n",
    "        print(a_list)"
   ]
  },
  {
   "cell_type": "code",
   "execution_count": 82,
   "id": "cd41317e-2fb3-40aa-82fa-42131b6cf939",
   "metadata": {},
   "outputs": [
    {
     "name": "stdout",
     "output_type": "stream",
     "text": [
      "1 1\n",
      "1 2\n",
      "2 1\n",
      "2 2\n",
      "3 1\n",
      "3 2\n"
     ]
    }
   ],
   "source": [
    "#nested loopings \n",
    "rows=range(1,4)\n",
    "cols=range(1,3)\n",
    "for row in rows:\n",
    "    for col in cols:\n",
    "        print(row,col)\n"
   ]
  },
  {
   "cell_type": "code",
   "execution_count": 89,
   "id": "0a554154-5ae7-458d-aaec-f9546bbbbfc6",
   "metadata": {},
   "outputs": [
    {
     "data": {
      "text/plain": [
       "{'t': 2, 'e': 2, 'l': 1, 's': 1, 'r': 1}"
      ]
     },
     "execution_count": 89,
     "metadata": {},
     "output_type": "execute_result"
    }
   ],
   "source": [
    "word='letters'\n",
    "letter_counts={letter:word.count(letter) for letter in set(word)}\n",
    "letter_counts"
   ]
  },
  {
   "cell_type": "code",
   "execution_count": 91,
   "id": "032a7a6e-6b47-4de3-ae45-8a76d961a2b7",
   "metadata": {},
   "outputs": [],
   "source": [
    "def make_a_sound():\n",
    "    print(\"oi\")"
   ]
  },
  {
   "cell_type": "code",
   "execution_count": 93,
   "id": "2f7cc58a-3f40-4958-a18b-35dc593bc0d4",
   "metadata": {},
   "outputs": [
    {
     "name": "stdout",
     "output_type": "stream",
     "text": [
      "oi\n"
     ]
    }
   ],
   "source": [
    "make_a_sound()"
   ]
  },
  {
   "cell_type": "code",
   "execution_count": 2,
   "id": "3192c75c-7978-482b-a63f-e26f5ade10f8",
   "metadata": {},
   "outputs": [],
   "source": [
    "def add_args(arg1, arg2):\n",
    "     print(arg1 + arg2)\n"
   ]
  },
  {
   "cell_type": "code",
   "execution_count": 3,
   "id": "791ef963-a811-44d3-91dd-060cbb12b6ab",
   "metadata": {},
   "outputs": [
    {
     "name": "stdout",
     "output_type": "stream",
     "text": [
      "3\n"
     ]
    }
   ],
   "source": [
    "add_args(1,2)"
   ]
  },
  {
   "cell_type": "code",
   "execution_count": 7,
   "id": "a8c44fdc-af27-457f-98e9-01c6a8eeaba3",
   "metadata": {},
   "outputs": [],
   "source": [
    "def my_range(first=0,last=10,step=1):\n",
    "    number=first\n",
    "    while number<10:\n",
    "        yield number"
   ]
  },
  {
   "cell_type": "code",
   "execution_count": 8,
   "id": "139ee067-0333-4011-a62b-9b659aba155e",
   "metadata": {},
   "outputs": [
    {
     "data": {
      "text/plain": [
       "<generator object my_range at 0x00000192AB5550B0>"
      ]
     },
     "execution_count": 8,
     "metadata": {},
     "output_type": "execute_result"
    }
   ],
   "source": [
    "my_range()"
   ]
  },
  {
   "cell_type": "code",
   "execution_count": 9,
   "id": "77c48693-f9b8-4bc8-bb81-99c6c5611076",
   "metadata": {},
   "outputs": [],
   "source": [
    "ranger=my_range(1,5)"
   ]
  },
  {
   "cell_type": "code",
   "execution_count": 10,
   "id": "3569db94-1b31-4147-ae19-d1f4e7f4a82e",
   "metadata": {},
   "outputs": [
    {
     "data": {
      "text/plain": [
       "<generator object my_range at 0x00000192AB555430>"
      ]
     },
     "execution_count": 10,
     "metadata": {},
     "output_type": "execute_result"
    }
   ],
   "source": [
    "ranger"
   ]
  },
  {
   "cell_type": "code",
   "execution_count": null,
   "id": "0cffba03-db33-4a1f-9915-d2a4de636b2f",
   "metadata": {},
   "outputs": [],
   "source": [
    "for x in ranger:\n",
    "    print(x)"
   ]
  },
  {
   "cell_type": "code",
   "execution_count": null,
   "id": "30ea1f2a-b171-4761-bfb2-d9889ccaf331",
   "metadata": {},
   "outputs": [],
   "source": []
  },
  {
   "cell_type": "code",
   "execution_count": null,
   "id": "02368d8b-960b-425f-9a6a-6cdd546ae69e",
   "metadata": {},
   "outputs": [],
   "source": []
  }
 ],
 "metadata": {
  "kernelspec": {
   "display_name": "Python 3 (ipykernel)",
   "language": "python",
   "name": "python3"
  },
  "language_info": {
   "codemirror_mode": {
    "name": "ipython",
    "version": 3
   },
   "file_extension": ".py",
   "mimetype": "text/x-python",
   "name": "python",
   "nbconvert_exporter": "python",
   "pygments_lexer": "ipython3",
   "version": "3.9.7"
  }
 },
 "nbformat": 4,
 "nbformat_minor": 5
}
