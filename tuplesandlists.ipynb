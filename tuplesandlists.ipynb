{
 "cells": [
  {
   "cell_type": "code",
   "execution_count": 1,
   "id": "238b6d42-e4f5-4a07-ac2f-628a65d1b5fe",
   "metadata": {},
   "outputs": [
    {
     "name": "stdout",
     "output_type": "stream",
     "text": [
      "5\n",
      "4\n",
      "3\n",
      "2\n",
      "1\n",
      "hey!\n"
     ]
    }
   ],
   "source": [
    "for countdown in 5, 4, 3, 2, 1, \"hey!\":\n",
    "    print(countdown)\n"
   ]
  },
  {
   "cell_type": "code",
   "execution_count": 2,
   "id": "c7011225-ebb3-402e-9c81-14e57c239097",
   "metadata": {},
   "outputs": [],
   "source": [
    "cliches = [\n",
    "\"At the end of the day\",\n",
    "\"Having said that\",\n",
    "\"The fact of the matter is\",\n",
    "\"Be that as it may\",\n",
    "\"The bottom line is\",\n",
    "\"If you will\",\n",
    "]\n"
   ]
  },
  {
   "cell_type": "code",
   "execution_count": 3,
   "id": "28a37f5a-ef4d-4016-881e-3b8a1231025b",
   "metadata": {},
   "outputs": [
    {
     "data": {
      "text/plain": [
       "['At the end of the day',\n",
       " 'Having said that',\n",
       " 'The fact of the matter is',\n",
       " 'Be that as it may',\n",
       " 'The bottom line is',\n",
       " 'If you will']"
      ]
     },
     "execution_count": 3,
     "metadata": {},
     "output_type": "execute_result"
    }
   ],
   "source": [
    "cliches"
   ]
  },
  {
   "cell_type": "code",
   "execution_count": 4,
   "id": "4f038990-0d9a-4415-9cdc-8f7ea3bfc354",
   "metadata": {},
   "outputs": [
    {
     "data": {
      "text/plain": [
       "'The fact of the matter is'"
      ]
     },
     "execution_count": 4,
     "metadata": {},
     "output_type": "execute_result"
    }
   ],
   "source": [
    "cliches[2]"
   ]
  },
  {
   "cell_type": "code",
   "execution_count": 5,
   "id": "e838c1c4-2b33-4b1d-a9c9-4c3dd4443dae",
   "metadata": {},
   "outputs": [],
   "source": [
    "quotes = {\n",
    "\"Moe\": \"A wise guy, huh?\",\n",
    "\"Larry\": \"Ow!\",\n",
    "\"Curly\": \"Nyuk nyuk!\",\n",
    "}\n",
    "stooge=\"Curly\""
   ]
  },
  {
   "cell_type": "code",
   "execution_count": 8,
   "id": "d635edb5-6283-4b4b-b25c-e34c0eb97d1d",
   "metadata": {},
   "outputs": [
    {
     "name": "stdout",
     "output_type": "stream",
     "text": [
      "Curly says: Nyuk nyuk!\n"
     ]
    }
   ],
   "source": [
    "print(stooge, \"says:\", quotes[stooge])"
   ]
  },
  {
   "cell_type": "code",
   "execution_count": 13,
   "id": "2f6487f7-d92b-467e-b981-56a3f7939521",
   "metadata": {},
   "outputs": [
    {
     "data": {
      "text/plain": [
       "'Release the kraken! At once!'"
      ]
     },
     "execution_count": 13,
     "metadata": {},
     "output_type": "execute_result"
    }
   ],
   "source": [
    "\n",
    "'Release the kraken! ' + 'At once!'"
   ]
  },
  {
   "cell_type": "code",
   "execution_count": 14,
   "id": "65bfac2d-cffa-46db-a4db-f607414f2d06",
   "metadata": {},
   "outputs": [
    {
     "data": {
      "text/plain": [
       "'My word! A gentleman caller!'"
      ]
     },
     "execution_count": 14,
     "metadata": {},
     "output_type": "execute_result"
    }
   ],
   "source": [
    "\"My word! \" \"A gentleman caller!\""
   ]
  },
  {
   "cell_type": "code",
   "execution_count": 19,
   "id": "d23c491f-ef3b-4685-8d5f-71abb0c34a18",
   "metadata": {},
   "outputs": [
    {
     "data": {
      "text/plain": [
       "'Duck.Duck.Grey Duck'"
      ]
     },
     "execution_count": 19,
     "metadata": {},
     "output_type": "execute_result"
    }
   ],
   "source": [
    "a=\"Duck.\"\n",
    "b=a\n",
    "c=\"Grey Duck\"\n",
    "a+b+c"
   ]
  },
  {
   "cell_type": "code",
   "execution_count": 20,
   "id": "6acf7377-a3c0-483a-aa43-4cb3547da339",
   "metadata": {},
   "outputs": [],
   "source": [
    "start = 'Na '* 4 \n",
    "middle = 'Hey ' * 3\n",
    "end = 'Goodbye.'"
   ]
  },
  {
   "cell_type": "code",
   "execution_count": 22,
   "id": "56f16b5d-c1b2-4840-a8a0-065fbe197a43",
   "metadata": {},
   "outputs": [
    {
     "name": "stdout",
     "output_type": "stream",
     "text": [
      "Na Na Na Na  Na Na Na Na  Hey Hey Hey  Goodbye.\n"
     ]
    }
   ],
   "source": [
    "print(start +\" \" + start+ \" \" + middle+\" \" + end)"
   ]
  },
  {
   "cell_type": "code",
   "execution_count": 25,
   "id": "0da875b1-6bcb-4998-9e61-0afc4f3dfac6",
   "metadata": {},
   "outputs": [],
   "source": [
    "letters = 'abcdefghijklmnopqrstuvwxyz'"
   ]
  },
  {
   "cell_type": "code",
   "execution_count": 26,
   "id": "f9061f48-3344-4911-8a38-736e87879dca",
   "metadata": {},
   "outputs": [
    {
     "data": {
      "text/plain": [
       "'z'"
      ]
     },
     "execution_count": 26,
     "metadata": {},
     "output_type": "execute_result"
    }
   ],
   "source": [
    "letters[25]"
   ]
  },
  {
   "cell_type": "code",
   "execution_count": 29,
   "id": "05783050-7404-40ab-9b9c-14cab6dad7f7",
   "metadata": {},
   "outputs": [],
   "source": [
    "name ='Henny'"
   ]
  },
  {
   "cell_type": "code",
   "execution_count": 31,
   "id": "c7577a21-99c9-4105-9118-174851200595",
   "metadata": {},
   "outputs": [
    {
     "data": {
      "text/plain": [
       "'Penny'"
      ]
     },
     "execution_count": 31,
     "metadata": {},
     "output_type": "execute_result"
    }
   ],
   "source": [
    "name.replace('H', 'P')"
   ]
  },
  {
   "cell_type": "code",
   "execution_count": 32,
   "id": "ea9383da-2395-4bfd-b31d-278720d4c77a",
   "metadata": {},
   "outputs": [
    {
     "data": {
      "text/plain": [
       "'Penny'"
      ]
     },
     "execution_count": 32,
     "metadata": {},
     "output_type": "execute_result"
    }
   ],
   "source": [
    "'P' + name[1:]"
   ]
  },
  {
   "cell_type": "code",
   "execution_count": 33,
   "id": "dd843b3e-3611-4cef-b550-c16fc497e5d0",
   "metadata": {},
   "outputs": [],
   "source": [
    "letters = 'abcdefghijklmnopqrstuvwxyz'"
   ]
  },
  {
   "cell_type": "code",
   "execution_count": 34,
   "id": "71cc211f-93da-4b56-bc95-c85a5cfba63f",
   "metadata": {},
   "outputs": [
    {
     "data": {
      "text/plain": [
       "'abcdefghijklmnopqrstuvwxyz'"
      ]
     },
     "execution_count": 34,
     "metadata": {},
     "output_type": "execute_result"
    }
   ],
   "source": [
    "letters[:]"
   ]
  },
  {
   "cell_type": "code",
   "execution_count": 36,
   "id": "ef885b1a-2da4-40a4-8d70-739c4d12fdcf",
   "metadata": {},
   "outputs": [
    {
     "data": {
      "text/plain": [
       "'uvwxyz'"
      ]
     },
     "execution_count": 36,
     "metadata": {},
     "output_type": "execute_result"
    }
   ],
   "source": [
    "letters[20:]"
   ]
  },
  {
   "cell_type": "code",
   "execution_count": 37,
   "id": "d7043922-6c7c-4cdd-aedd-7010b6657af2",
   "metadata": {},
   "outputs": [
    {
     "data": {
      "text/plain": [
       "'abcdefghijklmnopqrst'"
      ]
     },
     "execution_count": 37,
     "metadata": {},
     "output_type": "execute_result"
    }
   ],
   "source": [
    "letters[:20]"
   ]
  },
  {
   "cell_type": "code",
   "execution_count": 38,
   "id": "0bb6b3c8-d04b-44c4-b00b-e16211a27f55",
   "metadata": {},
   "outputs": [
    {
     "data": {
      "text/plain": [
       "'xyz'"
      ]
     },
     "execution_count": 38,
     "metadata": {},
     "output_type": "execute_result"
    }
   ],
   "source": [
    "letters[-3:]"
   ]
  },
  {
   "cell_type": "code",
   "execution_count": 39,
   "id": "bd0c53d4-4ad4-461c-aeb4-4d36bc599a07",
   "metadata": {},
   "outputs": [
    {
     "data": {
      "text/plain": [
       "'ehknqt'"
      ]
     },
     "execution_count": 39,
     "metadata": {},
     "output_type": "execute_result"
    }
   ],
   "source": [
    "letters[4:20:3]"
   ]
  },
  {
   "cell_type": "code",
   "execution_count": 40,
   "id": "aea3feb6-7b34-4450-b03f-c0ac180ba1bb",
   "metadata": {},
   "outputs": [
    {
     "data": {
      "text/plain": [
       "26"
      ]
     },
     "execution_count": 40,
     "metadata": {},
     "output_type": "execute_result"
    }
   ],
   "source": [
    "len(letters)"
   ]
  },
  {
   "cell_type": "code",
   "execution_count": 41,
   "id": "4725ebd6-d497-4480-98bb-adee0f79c4d2",
   "metadata": {},
   "outputs": [],
   "source": [
    "empty = \"\""
   ]
  },
  {
   "cell_type": "code",
   "execution_count": 42,
   "id": "19addd6a-10e9-4993-a185-d3985fb2e0ba",
   "metadata": {},
   "outputs": [
    {
     "data": {
      "text/plain": [
       "0"
      ]
     },
     "execution_count": 42,
     "metadata": {},
     "output_type": "execute_result"
    }
   ],
   "source": [
    "len(empty)"
   ]
  },
  {
   "cell_type": "code",
   "execution_count": 43,
   "id": "1f675970-840a-47ef-919b-ef7f8efb9aa6",
   "metadata": {},
   "outputs": [],
   "source": [
    "todos = 'get gloves,get mask,give cat vitamins,call ambulance'"
   ]
  },
  {
   "cell_type": "code",
   "execution_count": 44,
   "id": "46194328-615e-4110-a902-0422e295f667",
   "metadata": {},
   "outputs": [
    {
     "data": {
      "text/plain": [
       "['get gloves', 'get mask', 'give cat vitamins', 'call ambulance']"
      ]
     },
     "execution_count": 44,
     "metadata": {},
     "output_type": "execute_result"
    }
   ],
   "source": [
    " todos.split(',')"
   ]
  },
  {
   "cell_type": "code",
   "execution_count": 45,
   "id": "b305e8b2-7377-41cc-9ffb-70c515ba7cac",
   "metadata": {},
   "outputs": [
    {
     "data": {
      "text/plain": [
       "['c', 'a', 't']"
      ]
     },
     "execution_count": 45,
     "metadata": {},
     "output_type": "execute_result"
    }
   ],
   "source": [
    "list(\"cat\")"
   ]
  },
  {
   "cell_type": "code",
   "execution_count": 46,
   "id": "6f039ca1-f890-4615-8d10-1cd927c4eceb",
   "metadata": {},
   "outputs": [],
   "source": [
    "a_tuple = ('ready', 'fire','rain')"
   ]
  },
  {
   "cell_type": "code",
   "execution_count": 47,
   "id": "65da8e8a-fce4-41e6-87cf-cf7302aca032",
   "metadata": {},
   "outputs": [
    {
     "data": {
      "text/plain": [
       "['ready', 'fire', 'rain']"
      ]
     },
     "execution_count": 47,
     "metadata": {},
     "output_type": "execute_result"
    }
   ],
   "source": [
    "list(a_tuple)"
   ]
  },
  {
   "cell_type": "code",
   "execution_count": 48,
   "id": "778711b1-bc79-4b55-988e-11bb17fe6fb5",
   "metadata": {},
   "outputs": [],
   "source": [
    "birthday = '1/6/1952'\n"
   ]
  },
  {
   "cell_type": "code",
   "execution_count": 49,
   "id": "47be89a1-f49b-41a4-bdc1-367e0dc15bf7",
   "metadata": {},
   "outputs": [
    {
     "data": {
      "text/plain": [
       "'1/6/1952'"
      ]
     },
     "execution_count": 49,
     "metadata": {},
     "output_type": "execute_result"
    }
   ],
   "source": [
    "birthday"
   ]
  },
  {
   "cell_type": "code",
   "execution_count": 50,
   "id": "9d66368f-cf99-46ee-a125-5f31c414ee71",
   "metadata": {},
   "outputs": [
    {
     "data": {
      "text/plain": [
       "['1', '6', '1952']"
      ]
     },
     "execution_count": 50,
     "metadata": {},
     "output_type": "execute_result"
    }
   ],
   "source": [
    "birthday.split(\"/\")"
   ]
  },
  {
   "cell_type": "code",
   "execution_count": 51,
   "id": "da0e94fb-6c00-43d4-b3bb-291cb92033f8",
   "metadata": {},
   "outputs": [],
   "source": [
    "#Get an item"
   ]
  },
  {
   "cell_type": "code",
   "execution_count": 53,
   "id": "0f7cec81-d2ea-4e89-8ee4-cf8ac0b322d3",
   "metadata": {},
   "outputs": [],
   "source": [
    "marxes=[\"Goucho\", \"Chico\", \"Harpo\"]"
   ]
  },
  {
   "cell_type": "code",
   "execution_count": 54,
   "id": "6faef460-be89-4be8-ba39-f2a42152ac6c",
   "metadata": {},
   "outputs": [
    {
     "data": {
      "text/plain": [
       "'Goucho'"
      ]
     },
     "execution_count": 54,
     "metadata": {},
     "output_type": "execute_result"
    }
   ],
   "source": [
    "marxes[0]"
   ]
  },
  {
   "cell_type": "code",
   "execution_count": 56,
   "id": "30393b39-bb52-4876-b7f0-f47d7fb6f03e",
   "metadata": {},
   "outputs": [
    {
     "data": {
      "text/plain": [
       "'Chico'"
      ]
     },
     "execution_count": 56,
     "metadata": {},
     "output_type": "execute_result"
    }
   ],
   "source": [
    "marxes[1]"
   ]
  },
  {
   "cell_type": "code",
   "execution_count": 57,
   "id": "a1d002ae-a7ac-491e-91eb-3443bd892835",
   "metadata": {},
   "outputs": [
    {
     "data": {
      "text/plain": [
       "'Harpo'"
      ]
     },
     "execution_count": 57,
     "metadata": {},
     "output_type": "execute_result"
    }
   ],
   "source": [
    "marxes[2]"
   ]
  },
  {
   "cell_type": "code",
   "execution_count": 58,
   "id": "13aef0d7-4f27-43d9-80e7-831a49b72fa4",
   "metadata": {},
   "outputs": [
    {
     "data": {
      "text/plain": [
       "'Harpo'"
      ]
     },
     "execution_count": 58,
     "metadata": {},
     "output_type": "execute_result"
    }
   ],
   "source": [
    "marxes[-1]"
   ]
  },
  {
   "cell_type": "code",
   "execution_count": 59,
   "id": "c415be45-5c35-4d21-966d-da3e2998f4c5",
   "metadata": {},
   "outputs": [
    {
     "data": {
      "text/plain": [
       "'Chico'"
      ]
     },
     "execution_count": 59,
     "metadata": {},
     "output_type": "execute_result"
    }
   ],
   "source": [
    "marxes[-2]"
   ]
  },
  {
   "cell_type": "code",
   "execution_count": 62,
   "id": "26f97aab-3273-4751-a095-1b79cba0ef1d",
   "metadata": {},
   "outputs": [
    {
     "data": {
      "text/plain": [
       "'Goucho'"
      ]
     },
     "execution_count": 62,
     "metadata": {},
     "output_type": "execute_result"
    }
   ],
   "source": [
    "marxes[-3]"
   ]
  },
  {
   "cell_type": "code",
   "execution_count": 63,
   "id": "965a9fec-3e44-4c6d-9204-ed79b20a3411",
   "metadata": {},
   "outputs": [],
   "source": [
    "#lists of lists"
   ]
  },
  {
   "cell_type": "code",
   "execution_count": 64,
   "id": "f2076a48-47ee-436d-a8e0-f3b5aed81581",
   "metadata": {},
   "outputs": [],
   "source": [
    "small_birds = ['hummingbird', 'finch']"
   ]
  },
  {
   "cell_type": "code",
   "execution_count": 65,
   "id": "e9a81e09-33d1-41cf-98f8-1113a7b98dce",
   "metadata": {},
   "outputs": [],
   "source": [
    "extinct_birds = ['dodo', 'passenger pigeon', 'Norwegian Blue']"
   ]
  },
  {
   "cell_type": "code",
   "execution_count": 66,
   "id": "a7d0de52-e0c6-4885-91c5-c89786dfae2c",
   "metadata": {},
   "outputs": [],
   "source": [
    " carol_birds = [3, 'French hens', 2, 'turtledoves']"
   ]
  },
  {
   "cell_type": "code",
   "execution_count": 68,
   "id": "dd11a499-be76-4f02-880c-d276502bfe77",
   "metadata": {},
   "outputs": [],
   "source": [
    "all_birds=[\"small_birds\",\"extinc_birds\",\"macaw\", \"carol_birds\"]"
   ]
  },
  {
   "cell_type": "code",
   "execution_count": 69,
   "id": "592a644b-6ebe-4f6a-9359-391e2c1fe077",
   "metadata": {},
   "outputs": [
    {
     "data": {
      "text/plain": [
       "['small_birds', 'extinc_birds', 'macaw', 'carol_birds']"
      ]
     },
     "execution_count": 69,
     "metadata": {},
     "output_type": "execute_result"
    }
   ],
   "source": [
    "all_birds"
   ]
  },
  {
   "cell_type": "code",
   "execution_count": 70,
   "id": "a593f32b-3d11-46a4-ab0c-4a3cdc8961e7",
   "metadata": {},
   "outputs": [],
   "source": [
    "marxes[2]=\"wanda\""
   ]
  },
  {
   "cell_type": "code",
   "execution_count": 71,
   "id": "b02cd9b6-9f9d-4beb-9cfc-270514ecd601",
   "metadata": {},
   "outputs": [
    {
     "data": {
      "text/plain": [
       "['Goucho', 'Chico', 'wanda']"
      ]
     },
     "execution_count": 71,
     "metadata": {},
     "output_type": "execute_result"
    }
   ],
   "source": [
    "marxes"
   ]
  },
  {
   "cell_type": "code",
   "execution_count": 72,
   "id": "051d1e51-3c7e-40c2-a32f-8235cb9ba743",
   "metadata": {},
   "outputs": [
    {
     "data": {
      "text/plain": [
       "['Goucho', 'Chico']"
      ]
     },
     "execution_count": 72,
     "metadata": {},
     "output_type": "execute_result"
    }
   ],
   "source": [
    "marxes[0:2]"
   ]
  },
  {
   "cell_type": "code",
   "execution_count": 73,
   "id": "b7613f95-204e-41dd-aac9-fb809cc882b6",
   "metadata": {},
   "outputs": [
    {
     "data": {
      "text/plain": [
       "['Goucho', 'wanda']"
      ]
     },
     "execution_count": 73,
     "metadata": {},
     "output_type": "execute_result"
    }
   ],
   "source": [
    " marxes[::2] #by right \n"
   ]
  },
  {
   "cell_type": "code",
   "execution_count": 75,
   "id": "80d1a226-92c4-47ab-bb1d-db1709575ed6",
   "metadata": {},
   "outputs": [
    {
     "data": {
      "text/plain": [
       "['wanda', 'Goucho']"
      ]
     },
     "execution_count": 75,
     "metadata": {},
     "output_type": "execute_result"
    }
   ],
   "source": [
    "marxes[::-2] #by left "
   ]
  },
  {
   "cell_type": "code",
   "execution_count": 76,
   "id": "e3fc2983-3da5-4e55-8cf2-a3f1ddf95cb8",
   "metadata": {},
   "outputs": [
    {
     "data": {
      "text/plain": [
       "['wanda', 'Chico', 'Goucho']"
      ]
     },
     "execution_count": 76,
     "metadata": {},
     "output_type": "execute_result"
    }
   ],
   "source": [
    "marxes[::-1] # the reverse list"
   ]
  },
  {
   "cell_type": "code",
   "execution_count": 77,
   "id": "6708855f-3a2c-4a22-a86d-4c1e582614f2",
   "metadata": {},
   "outputs": [],
   "source": [
    "marxes.append(\"Zeppo\")"
   ]
  },
  {
   "cell_type": "code",
   "execution_count": 78,
   "id": "a3da42ed-aa13-45cb-b814-1fe3d409a45a",
   "metadata": {},
   "outputs": [
    {
     "data": {
      "text/plain": [
       "['Goucho', 'Chico', 'wanda', 'Zeppo']"
      ]
     },
     "execution_count": 78,
     "metadata": {},
     "output_type": "execute_result"
    }
   ],
   "source": [
    "marxes"
   ]
  },
  {
   "cell_type": "code",
   "execution_count": 80,
   "id": "7470e647-098d-4ca4-aec3-93150063daee",
   "metadata": {},
   "outputs": [],
   "source": [
    "others= [\"Gummmo\", \"Karl\"]"
   ]
  },
  {
   "cell_type": "code",
   "execution_count": 81,
   "id": "64b62b6d-2da5-4f58-b7e1-a70eb071a2c8",
   "metadata": {},
   "outputs": [],
   "source": [
    "marxes.extend(others)"
   ]
  },
  {
   "cell_type": "code",
   "execution_count": 82,
   "id": "bf8c3daa-af2f-4e72-be0d-6b1e1bf3d859",
   "metadata": {},
   "outputs": [
    {
     "data": {
      "text/plain": [
       "['Goucho', 'Chico', 'wanda', 'Zeppo', 'Gummmo', 'Karl']"
      ]
     },
     "execution_count": 82,
     "metadata": {},
     "output_type": "execute_result"
    }
   ],
   "source": [
    "marxes"
   ]
  },
  {
   "cell_type": "code",
   "execution_count": 83,
   "id": "b750dc11-39f5-4419-9ee6-f18b72b4a0e8",
   "metadata": {},
   "outputs": [],
   "source": [
    "marxes+=others"
   ]
  },
  {
   "cell_type": "code",
   "execution_count": 84,
   "id": "91ef1d03-309d-4ff7-887f-fc866b9d3ea6",
   "metadata": {},
   "outputs": [
    {
     "data": {
      "text/plain": [
       "['Goucho', 'Chico', 'wanda', 'Zeppo', 'Gummmo', 'Karl', 'Gummmo', 'Karl']"
      ]
     },
     "execution_count": 84,
     "metadata": {},
     "output_type": "execute_result"
    }
   ],
   "source": [
    "marxes"
   ]
  },
  {
   "cell_type": "code",
   "execution_count": 85,
   "id": "fae66ba6-634d-435c-980a-5f8c18d3436d",
   "metadata": {},
   "outputs": [],
   "source": [
    "marxes.append(others)"
   ]
  },
  {
   "cell_type": "code",
   "execution_count": 86,
   "id": "9a5220e0-a8d1-463c-90be-7cd46ffce25f",
   "metadata": {},
   "outputs": [
    {
     "data": {
      "text/plain": [
       "['Goucho',\n",
       " 'Chico',\n",
       " 'wanda',\n",
       " 'Zeppo',\n",
       " 'Gummmo',\n",
       " 'Karl',\n",
       " 'Gummmo',\n",
       " 'Karl',\n",
       " ['Gummmo', 'Karl']]"
      ]
     },
     "execution_count": 86,
     "metadata": {},
     "output_type": "execute_result"
    }
   ],
   "source": [
    "marxes"
   ]
  },
  {
   "cell_type": "code",
   "execution_count": 89,
   "id": "a715011f-5c52-4843-b883-da12c52c469f",
   "metadata": {},
   "outputs": [],
   "source": [
    "marxes.insert(0, 'Gummo')\n"
   ]
  },
  {
   "cell_type": "code",
   "execution_count": 90,
   "id": "17060341-4b83-48b8-9071-72c47ec03cb0",
   "metadata": {},
   "outputs": [
    {
     "data": {
      "text/plain": [
       "['Gummo',\n",
       " 'Goucho',\n",
       " 'Chico',\n",
       " 'wanda',\n",
       " 'Gummo',\n",
       " 'Zeppo',\n",
       " 'Gummmo',\n",
       " 'Karl',\n",
       " 'Gummmo',\n",
       " 'Karl',\n",
       " ['Gummmo', 'Karl']]"
      ]
     },
     "execution_count": 90,
     "metadata": {},
     "output_type": "execute_result"
    }
   ],
   "source": [
    "marxes"
   ]
  },
  {
   "cell_type": "code",
   "execution_count": 94,
   "id": "d33c9051-5bb7-44be-a6b2-f172364a4ed8",
   "metadata": {},
   "outputs": [],
   "source": [
    "del marxes[-1]"
   ]
  },
  {
   "cell_type": "code",
   "execution_count": 95,
   "id": "d89e04bf-6dfb-43d1-bd67-4ba2c93130ae",
   "metadata": {},
   "outputs": [
    {
     "data": {
      "text/plain": [
       "['Gummo', 'Goucho', 'Chico', 'wanda', 'Gummo', 'Zeppo', 'Gummmo', 'Gummmo']"
      ]
     },
     "execution_count": 95,
     "metadata": {},
     "output_type": "execute_result"
    }
   ],
   "source": [
    "marxes"
   ]
  },
  {
   "cell_type": "code",
   "execution_count": 96,
   "id": "fe65698c-a6a2-4588-be53-78e93fc6e216",
   "metadata": {},
   "outputs": [],
   "source": [
    " del marxes[2]\n"
   ]
  },
  {
   "cell_type": "code",
   "execution_count": 97,
   "id": "3d75b8fd-0be4-43b5-8f7e-e381b8461198",
   "metadata": {},
   "outputs": [
    {
     "data": {
      "text/plain": [
       "['Gummo', 'Goucho', 'wanda', 'Gummo', 'Zeppo', 'Gummmo', 'Gummmo']"
      ]
     },
     "execution_count": 97,
     "metadata": {},
     "output_type": "execute_result"
    }
   ],
   "source": [
    "marxes"
   ]
  },
  {
   "cell_type": "code",
   "execution_count": 104,
   "id": "dd023948-fb4b-46ad-87f9-fc6f3bb0eeca",
   "metadata": {},
   "outputs": [],
   "source": [
    "marxes.remove('wanda')"
   ]
  },
  {
   "cell_type": "code",
   "execution_count": 105,
   "id": "47be0096-b48a-449b-a5a5-7f64f9f22f84",
   "metadata": {},
   "outputs": [
    {
     "data": {
      "text/plain": [
       "['Goucho', 'Zeppo', 'Gummmo', 'Gummmo']"
      ]
     },
     "execution_count": 105,
     "metadata": {},
     "output_type": "execute_result"
    }
   ],
   "source": [
    "marxes"
   ]
  },
  {
   "cell_type": "code",
   "execution_count": 106,
   "id": "0f8535de-c696-4473-a145-bb7aa3351b73",
   "metadata": {},
   "outputs": [
    {
     "data": {
      "text/plain": [
       "'Gummmo'"
      ]
     },
     "execution_count": 106,
     "metadata": {},
     "output_type": "execute_result"
    }
   ],
   "source": [
    "marxes.pop()"
   ]
  },
  {
   "cell_type": "code",
   "execution_count": 107,
   "id": "a38a7a15-180c-45c7-ba91-b0fe4796f950",
   "metadata": {},
   "outputs": [
    {
     "data": {
      "text/plain": [
       "['Goucho', 'Zeppo', 'Gummmo']"
      ]
     },
     "execution_count": 107,
     "metadata": {},
     "output_type": "execute_result"
    }
   ],
   "source": [
    "marxes"
   ]
  },
  {
   "cell_type": "code",
   "execution_count": 108,
   "id": "2efd5347-1133-43f6-9c6b-84c92de8f094",
   "metadata": {},
   "outputs": [
    {
     "data": {
      "text/plain": [
       "'Zeppo'"
      ]
     },
     "execution_count": 108,
     "metadata": {},
     "output_type": "execute_result"
    }
   ],
   "source": [
    "marxes.pop(1)"
   ]
  },
  {
   "cell_type": "code",
   "execution_count": 109,
   "id": "d163f672-ea4c-4742-8821-a952cdc5b487",
   "metadata": {},
   "outputs": [
    {
     "data": {
      "text/plain": [
       "['Goucho', 'Gummmo']"
      ]
     },
     "execution_count": 109,
     "metadata": {},
     "output_type": "execute_result"
    }
   ],
   "source": [
    "marxes"
   ]
  },
  {
   "cell_type": "code",
   "execution_count": 110,
   "id": "925290b6-5b32-409f-ba2c-910f4a1e7726",
   "metadata": {},
   "outputs": [],
   "source": [
    "marxes = ['Groucho', 'Chico', 'Harpo', 'Zeppo']"
   ]
  },
  {
   "cell_type": "code",
   "execution_count": 112,
   "id": "7c7a18c8-6f3a-4801-aa1d-de7a38b0b69d",
   "metadata": {},
   "outputs": [
    {
     "data": {
      "text/plain": [
       "1"
      ]
     },
     "execution_count": 112,
     "metadata": {},
     "output_type": "execute_result"
    }
   ],
   "source": [
    "marxes.index('Chico')"
   ]
  },
  {
   "cell_type": "code",
   "execution_count": 113,
   "id": "785984d1-f503-49bb-899d-10d303df3f37",
   "metadata": {},
   "outputs": [],
   "source": [
    "marxes = ['Groucho', 'Chico', 'Harpo', 'Zeppo']"
   ]
  },
  {
   "cell_type": "code",
   "execution_count": 114,
   "id": "5050b7a9-ad79-4c47-9c80-0ff3813e0599",
   "metadata": {},
   "outputs": [
    {
     "data": {
      "text/plain": [
       "True"
      ]
     },
     "execution_count": 114,
     "metadata": {},
     "output_type": "execute_result"
    }
   ],
   "source": [
    "'Groucho' in marxes"
   ]
  },
  {
   "cell_type": "code",
   "execution_count": 115,
   "id": "21131975-9a56-4dd2-bb4a-5014f3435588",
   "metadata": {},
   "outputs": [
    {
     "data": {
      "text/plain": [
       "False"
      ]
     },
     "execution_count": 115,
     "metadata": {},
     "output_type": "execute_result"
    }
   ],
   "source": [
    "'Bob' in marxes "
   ]
  },
  {
   "cell_type": "code",
   "execution_count": 116,
   "id": "03395824-c1e2-4297-b2ca-104b1fea919a",
   "metadata": {},
   "outputs": [
    {
     "data": {
      "text/plain": [
       "1"
      ]
     },
     "execution_count": 116,
     "metadata": {},
     "output_type": "execute_result"
    }
   ],
   "source": [
    "marxes.count('Harpo')"
   ]
  },
  {
   "cell_type": "code",
   "execution_count": 117,
   "id": "0394ec08-9c09-483c-aeb4-28de2115dabb",
   "metadata": {},
   "outputs": [
    {
     "data": {
      "text/plain": [
       "0"
      ]
     },
     "execution_count": 117,
     "metadata": {},
     "output_type": "execute_result"
    }
   ],
   "source": [
    "marxes.count('Bob')"
   ]
  },
  {
   "cell_type": "code",
   "execution_count": 118,
   "id": "8e29d992-225c-4fb1-a3d6-1141096fb062",
   "metadata": {},
   "outputs": [],
   "source": [
    " snl_skit = ['cheeseburger', 'cheeseburger', 'cheeseburger']"
   ]
  },
  {
   "cell_type": "code",
   "execution_count": 121,
   "id": "ee3276bd-d623-4f79-babe-4e09363dc639",
   "metadata": {},
   "outputs": [
    {
     "data": {
      "text/plain": [
       "3"
      ]
     },
     "execution_count": 121,
     "metadata": {},
     "output_type": "execute_result"
    }
   ],
   "source": [
    "snl_skit.count(\"cheeseburger\")"
   ]
  },
  {
   "cell_type": "code",
   "execution_count": 123,
   "id": "f71dda09-8fc1-4092-aca2-8107bec42ef6",
   "metadata": {},
   "outputs": [],
   "source": [
    "sorted_marxes=sorted(marxes)"
   ]
  },
  {
   "cell_type": "code",
   "execution_count": 124,
   "id": "4da2e478-ef4d-4c54-8c37-6066ceaf134a",
   "metadata": {},
   "outputs": [
    {
     "data": {
      "text/plain": [
       "['Chico', 'Groucho', 'Harpo', 'Zeppo']"
      ]
     },
     "execution_count": 124,
     "metadata": {},
     "output_type": "execute_result"
    }
   ],
   "source": [
    "sorted_marxes"
   ]
  },
  {
   "cell_type": "code",
   "execution_count": 125,
   "id": "949358ab-c0a9-4d4b-9298-9038c12d4e23",
   "metadata": {},
   "outputs": [],
   "source": [
    "marxes.sort()"
   ]
  },
  {
   "cell_type": "code",
   "execution_count": 126,
   "id": "94cdd3e1-0ebe-437d-ba46-04433ef9a40d",
   "metadata": {},
   "outputs": [
    {
     "data": {
      "text/plain": [
       "['Chico', 'Groucho', 'Harpo', 'Zeppo']"
      ]
     },
     "execution_count": 126,
     "metadata": {},
     "output_type": "execute_result"
    }
   ],
   "source": [
    "marxes"
   ]
  },
  {
   "cell_type": "code",
   "execution_count": 127,
   "id": "cd7f8284-c81d-41de-9e89-eada49c0997b",
   "metadata": {},
   "outputs": [],
   "source": [
    "numbers = [2, 1, 4.0, 3]"
   ]
  },
  {
   "cell_type": "code",
   "execution_count": 128,
   "id": "8ee169d9-7b34-4aba-aa67-408c6fd963ad",
   "metadata": {},
   "outputs": [],
   "source": [
    "numbers.sort()"
   ]
  },
  {
   "cell_type": "code",
   "execution_count": 129,
   "id": "c915aa1b-a655-4832-80c8-8c70fdde5e23",
   "metadata": {},
   "outputs": [
    {
     "data": {
      "text/plain": [
       "[1, 2, 3, 4.0]"
      ]
     },
     "execution_count": 129,
     "metadata": {},
     "output_type": "execute_result"
    }
   ],
   "source": [
    "numbers"
   ]
  },
  {
   "cell_type": "code",
   "execution_count": 130,
   "id": "4d541d6d-ae2b-45d6-b249-7aad0349b137",
   "metadata": {},
   "outputs": [],
   "source": [
    "numbers.sort(reverse=True)"
   ]
  },
  {
   "cell_type": "code",
   "execution_count": 131,
   "id": "be047e79-a4c7-4622-820c-46e791a6865e",
   "metadata": {},
   "outputs": [
    {
     "data": {
      "text/plain": [
       "[4.0, 3, 2, 1]"
      ]
     },
     "execution_count": 131,
     "metadata": {},
     "output_type": "execute_result"
    }
   ],
   "source": [
    "numbers"
   ]
  },
  {
   "cell_type": "code",
   "execution_count": 132,
   "id": "44d2c126-f970-4dab-81d5-d977533324f7",
   "metadata": {},
   "outputs": [
    {
     "data": {
      "text/plain": [
       "4"
      ]
     },
     "execution_count": 132,
     "metadata": {},
     "output_type": "execute_result"
    }
   ],
   "source": [
    "len(marxes)"
   ]
  },
  {
   "cell_type": "code",
   "execution_count": 133,
   "id": "cc7e8403-779c-4fd4-ae9d-ff3e97f664b4",
   "metadata": {},
   "outputs": [],
   "source": [
    " a = [1, 2, 3] #very important "
   ]
  },
  {
   "cell_type": "code",
   "execution_count": 134,
   "id": "16a425dc-3381-46ca-8265-ba687efbc378",
   "metadata": {},
   "outputs": [],
   "source": [
    "b=a"
   ]
  },
  {
   "cell_type": "code",
   "execution_count": 136,
   "id": "5d2c5025-29e4-4bc7-a8c6-439f99247efb",
   "metadata": {},
   "outputs": [],
   "source": [
    "a[0]=\"surprise\""
   ]
  },
  {
   "cell_type": "code",
   "execution_count": 137,
   "id": "283595f4-f189-454e-913a-21193aca9418",
   "metadata": {},
   "outputs": [
    {
     "data": {
      "text/plain": [
       "['surprise', 2, 3]"
      ]
     },
     "execution_count": 137,
     "metadata": {},
     "output_type": "execute_result"
    }
   ],
   "source": [
    "a"
   ]
  },
  {
   "cell_type": "code",
   "execution_count": 138,
   "id": "fa246355-f679-4f38-9651-e0e64d7eea01",
   "metadata": {},
   "outputs": [
    {
     "data": {
      "text/plain": [
       "['surprise', 2, 3]"
      ]
     },
     "execution_count": 138,
     "metadata": {},
     "output_type": "execute_result"
    }
   ],
   "source": [
    "b"
   ]
  },
  {
   "cell_type": "code",
   "execution_count": 139,
   "id": "93f96539-295f-4a4a-906e-1780098f25be",
   "metadata": {},
   "outputs": [],
   "source": [
    "a = [1, 2, 3]"
   ]
  },
  {
   "cell_type": "code",
   "execution_count": 140,
   "id": "4473ba2e-2f18-4b46-bf90-e433c03b9a69",
   "metadata": {},
   "outputs": [],
   "source": [
    "b=a.copy()"
   ]
  },
  {
   "cell_type": "code",
   "execution_count": 148,
   "id": "f817b836-31e3-43fc-a523-e2c5fde17a94",
   "metadata": {},
   "outputs": [],
   "source": [
    "a[0]=\"surprise\"\n",
    "c = list(a)\n",
    "d=a[:]"
   ]
  },
  {
   "cell_type": "code",
   "execution_count": 149,
   "id": "7f74ca8a-c6da-4fc4-8d72-9a95c56ff98a",
   "metadata": {},
   "outputs": [
    {
     "data": {
      "text/plain": [
       "['surprise', 2, 3]"
      ]
     },
     "execution_count": 149,
     "metadata": {},
     "output_type": "execute_result"
    }
   ],
   "source": [
    "a"
   ]
  },
  {
   "cell_type": "code",
   "execution_count": 150,
   "id": "8eca6aa7-1820-4abc-aeef-9dfb68d34f3e",
   "metadata": {},
   "outputs": [
    {
     "data": {
      "text/plain": [
       "[1, 2, 3]"
      ]
     },
     "execution_count": 150,
     "metadata": {},
     "output_type": "execute_result"
    }
   ],
   "source": [
    "b"
   ]
  },
  {
   "cell_type": "code",
   "execution_count": 151,
   "id": "abb6c038-54fa-4dfb-9b03-88dfa682099b",
   "metadata": {},
   "outputs": [],
   "source": [
    "# Can you explain why is this happening?"
   ]
  },
  {
   "cell_type": "code",
   "execution_count": 152,
   "id": "6327401e-6fcb-4aef-a1b8-656730a58436",
   "metadata": {},
   "outputs": [
    {
     "data": {
      "text/plain": [
       "['surprise', 2, 3]"
      ]
     },
     "execution_count": 152,
     "metadata": {},
     "output_type": "execute_result"
    }
   ],
   "source": [
    "c"
   ]
  },
  {
   "cell_type": "code",
   "execution_count": 153,
   "id": "e12e433b-0da3-4f5d-b5d6-ec41efac7d39",
   "metadata": {},
   "outputs": [
    {
     "data": {
      "text/plain": [
       "['surprise', 2, 3]"
      ]
     },
     "execution_count": 153,
     "metadata": {},
     "output_type": "execute_result"
    }
   ],
   "source": [
    "d"
   ]
  },
  {
   "cell_type": "code",
   "execution_count": 156,
   "id": "af7ff06f-457c-4b2d-a68c-6aef1b2152c9",
   "metadata": {},
   "outputs": [],
   "source": [
    "#tuples\n",
    "marx_tuple = 'Groucho', 'Chico', 'Harpo'"
   ]
  },
  {
   "cell_type": "code",
   "execution_count": 157,
   "id": "ee80f37e-9880-495f-9972-110ed35461f9",
   "metadata": {},
   "outputs": [
    {
     "data": {
      "text/plain": [
       "('Groucho', 'Chico', 'Harpo')"
      ]
     },
     "execution_count": 157,
     "metadata": {},
     "output_type": "execute_result"
    }
   ],
   "source": [
    "marx_tuple"
   ]
  },
  {
   "cell_type": "code",
   "execution_count": 158,
   "id": "b51da4c2-b3f3-49dc-bb4a-d5781844d330",
   "metadata": {},
   "outputs": [],
   "source": [
    "a,b,c=marx_tuple"
   ]
  },
  {
   "cell_type": "code",
   "execution_count": 159,
   "id": "67fb3a10-252d-4d2c-85aa-1db5a0ac472f",
   "metadata": {},
   "outputs": [
    {
     "data": {
      "text/plain": [
       "('Groucho', 'Chico', 'Harpo')"
      ]
     },
     "execution_count": 159,
     "metadata": {},
     "output_type": "execute_result"
    }
   ],
   "source": [
    "marx_tuple"
   ]
  },
  {
   "cell_type": "code",
   "execution_count": 160,
   "id": "a8a57d4a-3858-4260-90a2-ae6f80ef1102",
   "metadata": {},
   "outputs": [
    {
     "data": {
      "text/plain": [
       "'Groucho'"
      ]
     },
     "execution_count": 160,
     "metadata": {},
     "output_type": "execute_result"
    }
   ],
   "source": [
    "a"
   ]
  },
  {
   "cell_type": "code",
   "execution_count": 161,
   "id": "771d8776-32b6-42dc-8d59-c88fb1b2e351",
   "metadata": {},
   "outputs": [
    {
     "data": {
      "text/plain": [
       "'Chico'"
      ]
     },
     "execution_count": 161,
     "metadata": {},
     "output_type": "execute_result"
    }
   ],
   "source": [
    "b"
   ]
  },
  {
   "cell_type": "code",
   "execution_count": 162,
   "id": "db876bf4-a1ad-4d31-98d8-2fea73d97854",
   "metadata": {},
   "outputs": [
    {
     "data": {
      "text/plain": [
       "'Harpo'"
      ]
     },
     "execution_count": 162,
     "metadata": {},
     "output_type": "execute_result"
    }
   ],
   "source": [
    "c"
   ]
  },
  {
   "cell_type": "code",
   "execution_count": 163,
   "id": "a494187b-6742-454b-8886-d2fbaf01a533",
   "metadata": {},
   "outputs": [],
   "source": [
    " password = 'swordfish'\n"
   ]
  },
  {
   "cell_type": "code",
   "execution_count": 164,
   "id": "788a9638-1641-4332-8e58-136b3175db7a",
   "metadata": {},
   "outputs": [],
   "source": [
    " icecream = 'tuttifrutti'"
   ]
  },
  {
   "cell_type": "code",
   "execution_count": 165,
   "id": "107275c2-071d-4099-8e4d-966b79511ace",
   "metadata": {},
   "outputs": [],
   "source": [
    "password,icecream=icecream, password"
   ]
  },
  {
   "cell_type": "code",
   "execution_count": 166,
   "id": "97af6907-8bcd-4d01-8b61-9f2ca20981c2",
   "metadata": {},
   "outputs": [
    {
     "data": {
      "text/plain": [
       "'tuttifrutti'"
      ]
     },
     "execution_count": 166,
     "metadata": {},
     "output_type": "execute_result"
    }
   ],
   "source": [
    "password"
   ]
  },
  {
   "cell_type": "code",
   "execution_count": 167,
   "id": "d31faf87-de35-42df-87e3-a4013b5c747a",
   "metadata": {},
   "outputs": [],
   "source": [
    "marx_list = ['Groucho', 'Chico', 'Harpo']\n"
   ]
  },
  {
   "cell_type": "code",
   "execution_count": 168,
   "id": "53694ea4-3523-4ce8-9b53-5dd4d96c52e8",
   "metadata": {},
   "outputs": [
    {
     "data": {
      "text/plain": [
       "('Groucho', 'Chico', 'Harpo')"
      ]
     },
     "execution_count": 168,
     "metadata": {},
     "output_type": "execute_result"
    }
   ],
   "source": [
    "tuple(marx_list)"
   ]
  },
  {
   "cell_type": "code",
   "execution_count": null,
   "id": "25255752-9f46-42bf-a53e-05d4538eb94a",
   "metadata": {},
   "outputs": [],
   "source": []
  }
 ],
 "metadata": {
  "kernelspec": {
   "display_name": "Python 3 (ipykernel)",
   "language": "python",
   "name": "python3"
  },
  "language_info": {
   "codemirror_mode": {
    "name": "ipython",
    "version": 3
   },
   "file_extension": ".py",
   "mimetype": "text/x-python",
   "name": "python",
   "nbconvert_exporter": "python",
   "pygments_lexer": "ipython3",
   "version": "3.9.7"
  }
 },
 "nbformat": 4,
 "nbformat_minor": 5
}
