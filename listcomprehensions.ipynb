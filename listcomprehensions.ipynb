{
 "cells": [
  {
   "cell_type": "code",
   "execution_count": 19,
   "id": "9e634c53-73e9-4ab8-92af-d78de9ccb8ea",
   "metadata": {},
   "outputs": [],
   "source": [
    "number_list = []\n"
   ]
  },
  {
   "cell_type": "code",
   "execution_count": 20,
   "id": "f88a5103-cb9a-431c-b98b-100b64dbc649",
   "metadata": {},
   "outputs": [],
   "source": [
    "number_list.append(1)\n",
    "number_list.append(2)\n",
    "number_list.append(3)\n",
    "number_list.append(4)\n",
    "number_list.append(5)\n"
   ]
  },
  {
   "cell_type": "code",
   "execution_count": 21,
   "id": "f3cccd92-0c84-483c-b720-1c347b68a244",
   "metadata": {},
   "outputs": [
    {
     "data": {
      "text/plain": [
       "[1, 2, 3, 4, 5]"
      ]
     },
     "execution_count": 21,
     "metadata": {},
     "output_type": "execute_result"
    }
   ],
   "source": [
    "number_list"
   ]
  },
  {
   "cell_type": "code",
   "execution_count": 22,
   "id": "f224bf20-d758-462b-b43c-4af6a0aeaf25",
   "metadata": {},
   "outputs": [
    {
     "data": {
      "text/plain": [
       "[1, 2, 3, 4, 5]"
      ]
     },
     "execution_count": 22,
     "metadata": {},
     "output_type": "execute_result"
    }
   ],
   "source": [
    "number_list = []\n",
    "for number  in range(1,6):\n",
    "    number_list.append(number)\n",
    "\n",
    "number_list    "
   ]
  },
  {
   "cell_type": "code",
   "execution_count": 23,
   "id": "09378c45-6d59-4cbf-b378-c61648bcab64",
   "metadata": {},
   "outputs": [],
   "source": [
    "number_list=list(range(1,6))"
   ]
  },
  {
   "cell_type": "code",
   "execution_count": 24,
   "id": "8967406f-a15b-4579-aac2-02cd2c6f25b3",
   "metadata": {},
   "outputs": [
    {
     "data": {
      "text/plain": [
       "[1, 2, 3, 4, 5]"
      ]
     },
     "execution_count": 24,
     "metadata": {},
     "output_type": "execute_result"
    }
   ],
   "source": [
    "number_list"
   ]
  },
  {
   "cell_type": "code",
   "execution_count": 25,
   "id": "f6b0021f-f347-4dbc-a48b-f0747ec75f6d",
   "metadata": {},
   "outputs": [
    {
     "data": {
      "text/plain": [
       "[1, 2, 3, 4, 5]"
      ]
     },
     "execution_count": 25,
     "metadata": {},
     "output_type": "execute_result"
    }
   ],
   "source": [
    "number_list=[number for  number in range(1,6)]\n",
    "number_list"
   ]
  },
  {
   "cell_type": "code",
   "execution_count": null,
   "id": "ed9e49a7-5896-4196-a56f-d77b39e23e5f",
   "metadata": {},
   "outputs": [],
   "source": []
  }
 ],
 "metadata": {
  "kernelspec": {
   "display_name": "Python 3 (ipykernel)",
   "language": "python",
   "name": "python3"
  },
  "language_info": {
   "codemirror_mode": {
    "name": "ipython",
    "version": 3
   },
   "file_extension": ".py",
   "mimetype": "text/x-python",
   "name": "python",
   "nbconvert_exporter": "python",
   "pygments_lexer": "ipython3",
   "version": "3.9.7"
  }
 },
 "nbformat": 4,
 "nbformat_minor": 5
}
