{
 "cells": [
  {
   "cell_type": "code",
   "execution_count": 8,
   "id": "a4333848-1e8f-4b85-8dae-04260add6f01",
   "metadata": {},
   "outputs": [],
   "source": [
    "class Person():\n",
    "    def __init__(self, name):\n",
    "        self.name = name\n",
    "        \n",
    "class EmailPerson(Person):\n",
    "    def __init__(self, name, email):\n",
    "        super().__init__(name)\n",
    "        self.email = email\n",
    "\n"
   ]
  },
  {
   "cell_type": "code",
   "execution_count": 14,
   "id": "b4693519-3000-4ce3-8985-6dd0bcae0960",
   "metadata": {},
   "outputs": [],
   "source": [
    " tamires= EmailPerson('Tamires', 'tamires@gmail.com')"
   ]
  },
  {
   "cell_type": "code",
   "execution_count": 15,
   "id": "6e8f9f46-0ad4-4a9a-81be-f6b977026e4f",
   "metadata": {},
   "outputs": [
    {
     "data": {
      "text/plain": [
       "'Tamires'"
      ]
     },
     "execution_count": 15,
     "metadata": {},
     "output_type": "execute_result"
    }
   ],
   "source": [
    "tamires.name"
   ]
  },
  {
   "cell_type": "code",
   "execution_count": 16,
   "id": "49a482cb-a16e-417d-9986-5bed1d64501b",
   "metadata": {},
   "outputs": [
    {
     "data": {
      "text/plain": [
       "'tamires@gmail.com'"
      ]
     },
     "execution_count": 16,
     "metadata": {},
     "output_type": "execute_result"
    }
   ],
   "source": [
    "tamires.email"
   ]
  },
  {
   "cell_type": "code",
   "execution_count": 17,
   "id": "7d51fb18-5b40-46f7-9a9c-7634ffe742f7",
   "metadata": {},
   "outputs": [],
   "source": [
    "#Notice that the __init__() call in the following subclass has an additional email parameter"
   ]
  },
  {
   "cell_type": "code",
   "execution_count": null,
   "id": "e0b57026-a3f5-4f7e-a821-a3a4dfd2be10",
   "metadata": {},
   "outputs": [],
   "source": [
    "#__init__() and self. __init__() is the special Python name\n",
    "for a method that initializes an individual object from its class definition. [4]\n",
    "The self argument specifies that it refers to the individual object itself.\n"
   ]
  }
 ],
 "metadata": {
  "kernelspec": {
   "display_name": "Python 3 (ipykernel)",
   "language": "python",
   "name": "python3"
  },
  "language_info": {
   "codemirror_mode": {
    "name": "ipython",
    "version": 3
   },
   "file_extension": ".py",
   "mimetype": "text/x-python",
   "name": "python",
   "nbconvert_exporter": "python",
   "pygments_lexer": "ipython3",
   "version": "3.9.7"
  }
 },
 "nbformat": 4,
 "nbformat_minor": 5
}
