{
 "cells": [
  {
   "cell_type": "code",
   "execution_count": 4,
   "id": "04a81a02-a67f-4b50-9237-3b94807f78ea",
   "metadata": {},
   "outputs": [],
   "source": [
    "\n",
    "from collections import ChainMap\n",
    "baseline = {'music': 'bach', 'art': 'rembrandt'}"
   ]
  },
  {
   "cell_type": "code",
   "execution_count": 5,
   "id": "636c34cc-be35-4afc-9308-e65aeea1320a",
   "metadata": {},
   "outputs": [],
   "source": [
    "adjustments = {'art': 'van gogh', 'opera': 'carmen'}"
   ]
  },
  {
   "cell_type": "code",
   "execution_count": 6,
   "id": "7d50db62-66bb-4bf6-b801-1ed1bd0b5392",
   "metadata": {},
   "outputs": [
    {
     "data": {
      "text/plain": [
       "['music', 'art', 'opera']"
      ]
     },
     "execution_count": 6,
     "metadata": {},
     "output_type": "execute_result"
    }
   ],
   "source": [
    "list(ChainMap(adjustments, baseline))"
   ]
  },
  {
   "cell_type": "code",
   "execution_count": 7,
   "id": "083a57ea-d411-4e0f-abed-de12a9056517",
   "metadata": {},
   "outputs": [],
   "source": [
    "combined = baseline.copy()"
   ]
  },
  {
   "cell_type": "code",
   "execution_count": 8,
   "id": "cd395418-1b55-4127-817d-12c4e431f390",
   "metadata": {},
   "outputs": [
    {
     "data": {
      "text/plain": [
       "{'music': 'bach', 'art': 'rembrandt'}"
      ]
     },
     "execution_count": 8,
     "metadata": {},
     "output_type": "execute_result"
    }
   ],
   "source": [
    "combined"
   ]
  },
  {
   "cell_type": "code",
   "execution_count": 9,
   "id": "5e2a0aae-7e2f-4eba-a53f-7c990467aacb",
   "metadata": {},
   "outputs": [],
   "source": [
    "combined.update(adjustments)"
   ]
  },
  {
   "cell_type": "code",
   "execution_count": 10,
   "id": "89f1cbee-b495-4734-8437-2b422e6e33a5",
   "metadata": {},
   "outputs": [
    {
     "data": {
      "text/plain": [
       "['music', 'art', 'opera']"
      ]
     },
     "execution_count": 10,
     "metadata": {},
     "output_type": "execute_result"
    }
   ],
   "source": [
    "list(combined)"
   ]
  },
  {
   "cell_type": "code",
   "execution_count": null,
   "id": "3254dba0-05c1-4bd1-8d8b-32d573215136",
   "metadata": {},
   "outputs": [],
   "source": []
  }
 ],
 "metadata": {
  "kernelspec": {
   "display_name": "Python 3 (ipykernel)",
   "language": "python",
   "name": "python3"
  },
  "language_info": {
   "codemirror_mode": {
    "name": "ipython",
    "version": 3
   },
   "file_extension": ".py",
   "mimetype": "text/x-python",
   "name": "python",
   "nbconvert_exporter": "python",
   "pygments_lexer": "ipython3",
   "version": "3.9.7"
  }
 },
 "nbformat": 4,
 "nbformat_minor": 5
}
