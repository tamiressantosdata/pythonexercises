{
 "cells": [
  {
   "cell_type": "code",
   "execution_count": 1,
   "id": "4a7d9cef-e077-4b94-8bfb-810bad623f1d",
   "metadata": {},
   "outputs": [],
   "source": [
    "dial_codes = [ (880, 'Bangladesh'),(55, 'Brazil'),(86, 'China'),(91, 'India'),(62, 'Indonesia'),(81, 'Japan'),(234, 'Nigeria'),(92, 'Pakistan'),\n",
    "(7, 'Russia'),(1, 'United States'),]"
   ]
  },
  {
   "cell_type": "code",
   "execution_count": 2,
   "id": "173fc159-ae1e-422e-95fb-c1f5db514bb2",
   "metadata": {},
   "outputs": [
    {
     "data": {
      "text/plain": [
       "[(880, 'Bangladesh'),\n",
       " (55, 'Brazil'),\n",
       " (86, 'China'),\n",
       " (91, 'India'),\n",
       " (62, 'Indonesia'),\n",
       " (81, 'Japan'),\n",
       " (234, 'Nigeria'),\n",
       " (92, 'Pakistan'),\n",
       " (7, 'Russia'),\n",
       " (1, 'United States')]"
      ]
     },
     "execution_count": 2,
     "metadata": {},
     "output_type": "execute_result"
    }
   ],
   "source": [
    "dial_codes"
   ]
  },
  {
   "cell_type": "code",
   "execution_count": 3,
   "id": "a6932c33-9b1e-4cf6-b1f1-856b96a533bc",
   "metadata": {},
   "outputs": [],
   "source": [
    "country_dial = {country: code for code, country in dial_codes}"
   ]
  },
  {
   "cell_type": "code",
   "execution_count": 5,
   "id": "2c2749c6-e921-4894-80fe-256f4e9b1b5e",
   "metadata": {},
   "outputs": [
    {
     "data": {
      "text/plain": [
       "{'Bangladesh': 880,\n",
       " 'Brazil': 55,\n",
       " 'China': 86,\n",
       " 'India': 91,\n",
       " 'Indonesia': 62,\n",
       " 'Japan': 81,\n",
       " 'Nigeria': 234,\n",
       " 'Pakistan': 92,\n",
       " 'Russia': 7,\n",
       " 'United States': 1}"
      ]
     },
     "execution_count": 5,
     "metadata": {},
     "output_type": "execute_result"
    }
   ],
   "source": [
    "country_dial"
   ]
  },
  {
   "cell_type": "code",
   "execution_count": 6,
   "id": "5935600d-e1f2-498d-a8aa-05b09ebd937f",
   "metadata": {},
   "outputs": [
    {
     "data": {
      "text/plain": [
       "{880: 'BANGLADESH',\n",
       " 55: 'BRAZIL',\n",
       " 86: 'CHINA',\n",
       " 91: 'INDIA',\n",
       " 62: 'INDONESIA',\n",
       " 81: 'JAPAN',\n",
       " 234: 'NIGERIA',\n",
       " 92: 'PAKISTAN',\n",
       " 7: 'RUSSIA',\n",
       " 1: 'UNITED STATES'}"
      ]
     },
     "execution_count": 6,
     "metadata": {},
     "output_type": "execute_result"
    }
   ],
   "source": [
    "{code: country.upper()  for country, code in sorted(country_dial.items())}\n"
   ]
  },
  {
   "cell_type": "code",
   "execution_count": null,
   "id": "ffd6e11f-a6f4-4627-8b96-c6a331f00cd5",
   "metadata": {},
   "outputs": [],
   "source": []
  }
 ],
 "metadata": {
  "kernelspec": {
   "display_name": "Python 3 (ipykernel)",
   "language": "python",
   "name": "python3"
  },
  "language_info": {
   "codemirror_mode": {
    "name": "ipython",
    "version": 3
   },
   "file_extension": ".py",
   "mimetype": "text/x-python",
   "name": "python",
   "nbconvert_exporter": "python",
   "pygments_lexer": "ipython3",
   "version": "3.9.7"
  }
 },
 "nbformat": 4,
 "nbformat_minor": 5
}
