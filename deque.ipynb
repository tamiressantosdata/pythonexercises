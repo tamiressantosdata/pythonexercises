{
 "cells": [
  {
   "cell_type": "code",
   "execution_count": 84,
   "id": "851cbb0a-5268-470b-95a9-489ace44dd82",
   "metadata": {},
   "outputs": [],
   "source": [
    "from collections import ChainMap\n",
    "from collections import Counter\n",
    "import builtins\n",
    "pylookup = ChainMap(locals(), globals(), vars(builtins))"
   ]
  },
  {
   "cell_type": "code",
   "execution_count": 85,
   "id": "26d0ab44-1849-48e4-8e7d-b9380b927f33",
   "metadata": {},
   "outputs": [],
   "source": [
    "baseline = {'music': 'bach', 'art': 'rembrandt'}"
   ]
  },
  {
   "cell_type": "code",
   "execution_count": 86,
   "id": "636c34cc-be35-4afc-9308-e65aeea1320a",
   "metadata": {},
   "outputs": [],
   "source": [
    "adjustments = {'art': 'van gogh', 'opera': 'carmen'}"
   ]
  },
  {
   "cell_type": "code",
   "execution_count": 87,
   "id": "7d50db62-66bb-4bf6-b801-1ed1bd0b5392",
   "metadata": {},
   "outputs": [
    {
     "data": {
      "text/plain": [
       "['music', 'art', 'opera']"
      ]
     },
     "execution_count": 87,
     "metadata": {},
     "output_type": "execute_result"
    }
   ],
   "source": [
    "list(ChainMap(adjustments, baseline))"
   ]
  },
  {
   "cell_type": "code",
   "execution_count": 88,
   "id": "083a57ea-d411-4e0f-abed-de12a9056517",
   "metadata": {},
   "outputs": [],
   "source": [
    "combined = baseline.copy()"
   ]
  },
  {
   "cell_type": "code",
   "execution_count": 89,
   "id": "cd395418-1b55-4127-817d-12c4e431f390",
   "metadata": {},
   "outputs": [
    {
     "data": {
      "text/plain": [
       "{'music': 'bach', 'art': 'rembrandt'}"
      ]
     },
     "execution_count": 89,
     "metadata": {},
     "output_type": "execute_result"
    }
   ],
   "source": [
    "combined"
   ]
  },
  {
   "cell_type": "code",
   "execution_count": 90,
   "id": "5e2a0aae-7e2f-4eba-a53f-7c990467aacb",
   "metadata": {},
   "outputs": [],
   "source": [
    "combined.update(adjustments)"
   ]
  },
  {
   "cell_type": "code",
   "execution_count": 91,
   "id": "89f1cbee-b495-4734-8437-2b422e6e33a5",
   "metadata": {},
   "outputs": [
    {
     "data": {
      "text/plain": [
       "['music', 'art', 'opera']"
      ]
     },
     "execution_count": 91,
     "metadata": {},
     "output_type": "execute_result"
    }
   ],
   "source": [
    "list(combined)"
   ]
  },
  {
   "cell_type": "code",
   "execution_count": 92,
   "id": "3254dba0-05c1-4bd1-8d8b-32d573215136",
   "metadata": {},
   "outputs": [],
   "source": [
    "d =ChainMap({'zebra': 'black'}, {'elephant': 'blue'}, {'lion': 'yellow'})"
   ]
  },
  {
   "cell_type": "code",
   "execution_count": 93,
   "id": "b09eb281-080a-4873-a4b3-4c6a4356b355",
   "metadata": {},
   "outputs": [],
   "source": [
    "d['lion']='orange' "
   ]
  },
  {
   "cell_type": "code",
   "execution_count": 94,
   "id": "9e4c3fd5-64a4-4330-9d4b-0b7931d1d0fb",
   "metadata": {},
   "outputs": [],
   "source": [
    "d['snake']='red'"
   ]
  },
  {
   "cell_type": "code",
   "execution_count": 95,
   "id": "d14b4da7-d2f9-44e0-ad36-23690087ae15",
   "metadata": {},
   "outputs": [
    {
     "data": {
      "text/plain": [
       "ChainMap({'zebra': 'black', 'lion': 'orange', 'snake': 'red'}, {'elephant': 'blue'}, {'lion': 'yellow'})"
      ]
     },
     "execution_count": 95,
     "metadata": {},
     "output_type": "execute_result"
    }
   ],
   "source": [
    "d"
   ]
  },
  {
   "cell_type": "code",
   "execution_count": 96,
   "id": "3592b23c-5269-4a52-a8e3-2cd29f093c72",
   "metadata": {},
   "outputs": [],
   "source": [
    "cnt=Counter()\n",
    "for word in ['red','blue','blue','red','yellow','black']:\n",
    "    cnt[word]+=1"
   ]
  },
  {
   "cell_type": "code",
   "execution_count": 97,
   "id": "c663c9fe-0417-43ed-9f9c-9653178e1581",
   "metadata": {},
   "outputs": [
    {
     "data": {
      "text/plain": [
       "Counter({'red': 2, 'blue': 2, 'yellow': 1, 'black': 1})"
      ]
     },
     "execution_count": 97,
     "metadata": {},
     "output_type": "execute_result"
    }
   ],
   "source": [
    "cnt"
   ]
  },
  {
   "cell_type": "code",
   "execution_count": 98,
   "id": "8238158a-4fb1-487b-ab80-21d8b6b22c7b",
   "metadata": {},
   "outputs": [],
   "source": [
    "c = Counter('gallahad')"
   ]
  },
  {
   "cell_type": "code",
   "execution_count": 99,
   "id": "6ef44c69-1f80-437e-ba96-341f4406e5ea",
   "metadata": {},
   "outputs": [
    {
     "data": {
      "text/plain": [
       "Counter({'g': 1, 'a': 3, 'l': 2, 'h': 1, 'd': 1})"
      ]
     },
     "execution_count": 99,
     "metadata": {},
     "output_type": "execute_result"
    }
   ],
   "source": [
    "c"
   ]
  },
  {
   "cell_type": "code",
   "execution_count": 100,
   "id": "72c67ef8-cef5-4305-b34f-61e9b03edd29",
   "metadata": {},
   "outputs": [],
   "source": [
    "e=Counter({'red':4,'blue':3})"
   ]
  },
  {
   "cell_type": "code",
   "execution_count": 101,
   "id": "eaaac9a5-4bae-4646-a73f-5f85eea3e02b",
   "metadata": {},
   "outputs": [
    {
     "data": {
      "text/plain": [
       "Counter({'red': 4, 'blue': 3})"
      ]
     },
     "execution_count": 101,
     "metadata": {},
     "output_type": "execute_result"
    }
   ],
   "source": [
    "e"
   ]
  },
  {
   "cell_type": "code",
   "execution_count": 102,
   "id": "bf5dfd6e-f297-4905-9014-f80f52a95ddf",
   "metadata": {},
   "outputs": [
    {
     "data": {
      "text/plain": [
       "Counter({'cats': 4, 'dogs': 8})"
      ]
     },
     "execution_count": 102,
     "metadata": {},
     "output_type": "execute_result"
    }
   ],
   "source": [
    "Counter(cats=4, dogs=8)"
   ]
  },
  {
   "cell_type": "code",
   "execution_count": 103,
   "id": "ce05be7e-9c7c-476f-bc8c-10ae004eea83",
   "metadata": {},
   "outputs": [],
   "source": [
    "z=Counter(['eggs','bread'])"
   ]
  },
  {
   "cell_type": "code",
   "execution_count": 104,
   "id": "073182f2-ddd4-4779-a324-ae1541e7abe7",
   "metadata": {},
   "outputs": [
    {
     "data": {
      "text/plain": [
       "0"
      ]
     },
     "execution_count": 104,
     "metadata": {},
     "output_type": "execute_result"
    }
   ],
   "source": [
    "z['hamburger']"
   ]
  },
  {
   "cell_type": "code",
   "execution_count": 105,
   "id": "2dc550dd-395a-4c94-a7a7-1eedcffce3b4",
   "metadata": {},
   "outputs": [],
   "source": [
    "c = Counter(a=4, b=2, c=0, d=-2)"
   ]
  },
  {
   "cell_type": "code",
   "execution_count": 106,
   "id": "cc6eda5d-6608-46f2-9229-e67b21799567",
   "metadata": {},
   "outputs": [
    {
     "data": {
      "text/plain": [
       "['a', 'a', 'a', 'a', 'b', 'b']"
      ]
     },
     "execution_count": 106,
     "metadata": {},
     "output_type": "execute_result"
    }
   ],
   "source": [
    "sorted(c.elements())"
   ]
  },
  {
   "cell_type": "code",
   "execution_count": 107,
   "id": "c854b358-5dfd-49d2-9faa-8ecc48519ea9",
   "metadata": {},
   "outputs": [
    {
     "data": {
      "text/plain": [
       "[('a', 5), ('b', 2), ('r', 2)]"
      ]
     },
     "execution_count": 107,
     "metadata": {},
     "output_type": "execute_result"
    }
   ],
   "source": [
    "Counter('abracadabra').most_common(3)"
   ]
  },
  {
   "cell_type": "code",
   "execution_count": 108,
   "id": "1b8d1d27-4c02-443b-ac06-11cbb022779d",
   "metadata": {},
   "outputs": [],
   "source": [
    "c=Counter(a=15,b=20,c=31)"
   ]
  },
  {
   "cell_type": "code",
   "execution_count": 109,
   "id": "00e705ef-8f33-4078-a2f2-fd1f59c910ae",
   "metadata": {},
   "outputs": [
    {
     "data": {
      "text/plain": [
       "Counter({'a': 15, 'b': 20, 'c': 31})"
      ]
     },
     "execution_count": 109,
     "metadata": {},
     "output_type": "execute_result"
    }
   ],
   "source": [
    "c"
   ]
  },
  {
   "cell_type": "code",
   "execution_count": 111,
   "id": "a0b3f65b-9c84-4e4a-be46-1f4125f79c5c",
   "metadata": {},
   "outputs": [
    {
     "name": "stdout",
     "output_type": "stream",
     "text": [
      "G\n",
      "H\n",
      "I\n"
     ]
    }
   ],
   "source": [
    "from collections import deque\n",
    "d = deque('ghi')                 # make a new deque with three items\n",
    "for elem in d:                   # iterate over the deque's elements\n",
    "    print(elem.upper())\n"
   ]
  },
  {
   "cell_type": "code",
   "execution_count": 112,
   "id": "12e7487a-abe5-4d9f-bd80-7d6416eed98e",
   "metadata": {},
   "outputs": [
    {
     "name": "stdout",
     "output_type": "stream",
     "text": [
      "deque(['name', 'age', 'DOB'])\n"
     ]
    }
   ],
   "source": [
    "from collections import deque\n",
    "     \n",
    "\n",
    "queue = deque(['name','age','DOB']) \n",
    "     \n",
    "print(queue)"
   ]
  },
  {
   "cell_type": "code",
   "execution_count": null,
   "id": "e2a2b0ff-ed38-49cc-9798-8cd25c0c9edc",
   "metadata": {},
   "outputs": [],
   "source": []
  }
 ],
 "metadata": {
  "kernelspec": {
   "display_name": "Python 3 (ipykernel)",
   "language": "python",
   "name": "python3"
  },
  "language_info": {
   "codemirror_mode": {
    "name": "ipython",
    "version": 3
   },
   "file_extension": ".py",
   "mimetype": "text/x-python",
   "name": "python",
   "nbconvert_exporter": "python",
   "pygments_lexer": "ipython3",
   "version": "3.9.7"
  }
 },
 "nbformat": 4,
 "nbformat_minor": 5
}
