{
 "cells": [
  {
   "cell_type": "code",
   "execution_count": 5,
   "id": "4703691c-769a-4652-902b-d0db0eb717e2",
   "metadata": {},
   "outputs": [],
   "source": [
    "l = ['spam', 'spam', 'eggs', 'spam', 'bacon', 'eggs']"
   ]
  },
  {
   "cell_type": "code",
   "execution_count": 6,
   "id": "218888a5-46ec-4c66-b218-268c1e995e58",
   "metadata": {},
   "outputs": [
    {
     "data": {
      "text/plain": [
       "{'bacon', 'eggs', 'spam'}"
      ]
     },
     "execution_count": 6,
     "metadata": {},
     "output_type": "execute_result"
    }
   ],
   "source": [
    "set(l)"
   ]
  },
  {
   "cell_type": "code",
   "execution_count": 7,
   "id": "22f83638-023f-4502-b08e-f34d71cfa532",
   "metadata": {},
   "outputs": [],
   "source": [
    "#A set is a collection of unique objects. A basic use case is removing duplication"
   ]
  },
  {
   "cell_type": "code",
   "execution_count": 8,
   "id": "6b13da76-e16b-404f-aa4c-a358cbb75d3f",
   "metadata": {},
   "outputs": [],
   "source": [
    "s = {1}"
   ]
  },
  {
   "cell_type": "code",
   "execution_count": 9,
   "id": "4e6f578a-ab62-4e9a-bf8b-d5dcb4e26007",
   "metadata": {},
   "outputs": [
    {
     "data": {
      "text/plain": [
       "set"
      ]
     },
     "execution_count": 9,
     "metadata": {},
     "output_type": "execute_result"
    }
   ],
   "source": [
    "type(s)\n"
   ]
  },
  {
   "cell_type": "code",
   "execution_count": 10,
   "id": "e7ba6a02-6f91-4ae7-944f-cb8bfb8d048e",
   "metadata": {},
   "outputs": [
    {
     "data": {
      "text/plain": [
       "1"
      ]
     },
     "execution_count": 10,
     "metadata": {},
     "output_type": "execute_result"
    }
   ],
   "source": [
    "s.pop()\n"
   ]
  },
  {
   "cell_type": "code",
   "execution_count": 11,
   "id": "bad9155e-f801-4e49-8b9e-dbb62c009f28",
   "metadata": {},
   "outputs": [
    {
     "data": {
      "text/plain": [
       "set()"
      ]
     },
     "execution_count": 11,
     "metadata": {},
     "output_type": "execute_result"
    }
   ],
   "source": [
    "s"
   ]
  },
  {
   "cell_type": "code",
   "execution_count": 12,
   "id": "9305e8a0-cd89-4d91-bd78-ca78fc82a898",
   "metadata": {},
   "outputs": [
    {
     "data": {
      "text/plain": [
       "frozenset({0, 1, 2, 3, 4, 5, 6, 7, 8, 9})"
      ]
     },
     "execution_count": 12,
     "metadata": {},
     "output_type": "execute_result"
    }
   ],
   "source": [
    "frozenset(range(10))\n"
   ]
  },
  {
   "cell_type": "code",
   "execution_count": 13,
   "id": "de3821e6-853b-4afb-b68f-a126435db143",
   "metadata": {},
   "outputs": [],
   "source": [
    "d1 = dict(a=1, b=2, c=3, d=4)\n"
   ]
  },
  {
   "cell_type": "code",
   "execution_count": 14,
   "id": "2096eacf-f1e8-479f-b43f-6253a5e2d787",
   "metadata": {},
   "outputs": [],
   "source": [
    "d2 = dict(b=20, d=40, e=50)"
   ]
  },
  {
   "cell_type": "code",
   "execution_count": 15,
   "id": "18810882-e1e3-4c0e-93c8-b604e57af3e7",
   "metadata": {},
   "outputs": [
    {
     "data": {
      "text/plain": [
       "{'b', 'd'}"
      ]
     },
     "execution_count": 15,
     "metadata": {},
     "output_type": "execute_result"
    }
   ],
   "source": [
    " d1.keys() & d2.keys()"
   ]
  },
  {
   "cell_type": "code",
   "execution_count": 16,
   "id": "345ecf68-ba22-4502-8536-762840f3647a",
   "metadata": {},
   "outputs": [],
   "source": [
    " s = {'a', 'e', 'i'}"
   ]
  },
  {
   "cell_type": "code",
   "execution_count": 17,
   "id": "b26c9740-a65e-41f6-ad68-1639e74d2336",
   "metadata": {},
   "outputs": [
    {
     "data": {
      "text/plain": [
       "{'a'}"
      ]
     },
     "execution_count": 17,
     "metadata": {},
     "output_type": "execute_result"
    }
   ],
   "source": [
    " d1.keys() & s"
   ]
  },
  {
   "cell_type": "code",
   "execution_count": 18,
   "id": "fc2f36b4-e90d-4a67-b1f6-ab6acda7e982",
   "metadata": {},
   "outputs": [
    {
     "data": {
      "text/plain": [
       "{'a', 'b', 'c', 'd', 'e', 'i'}"
      ]
     },
     "execution_count": 18,
     "metadata": {},
     "output_type": "execute_result"
    }
   ],
   "source": [
    "d1.keys() | s\n"
   ]
  },
  {
   "cell_type": "code",
   "execution_count": null,
   "id": "60645115-d475-4e92-80bc-4f5dc05cf60e",
   "metadata": {},
   "outputs": [],
   "source": []
  }
 ],
 "metadata": {
  "kernelspec": {
   "display_name": "Python 3 (ipykernel)",
   "language": "python",
   "name": "python3"
  },
  "language_info": {
   "codemirror_mode": {
    "name": "ipython",
    "version": 3
   },
   "file_extension": ".py",
   "mimetype": "text/x-python",
   "name": "python",
   "nbconvert_exporter": "python",
   "pygments_lexer": "ipython3",
   "version": "3.9.7"
  }
 },
 "nbformat": 4,
 "nbformat_minor": 5
}
