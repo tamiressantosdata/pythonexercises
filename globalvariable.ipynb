{
 "cells": [
  {
   "cell_type": "code",
   "execution_count": 1,
   "id": "7954c793-cbd6-41fe-b411-1707f7c91b65",
   "metadata": {},
   "outputs": [
    {
     "data": {
      "text/plain": [
       "3"
      ]
     },
     "execution_count": 1,
     "metadata": {},
     "output_type": "execute_result"
    }
   ],
   "source": [
    "def add_arg(arg1,arg2):\n",
    "    return arg1 +arg2\n",
    "add_arg(1,2)\n"
   ]
  },
  {
   "cell_type": "code",
   "execution_count": 2,
   "id": "8033d4db-6e25-4265-ac2c-67a0f590b785",
   "metadata": {},
   "outputs": [
    {
     "data": {
      "text/plain": [
       "14"
      ]
     },
     "execution_count": 2,
     "metadata": {},
     "output_type": "execute_result"
    }
   ],
   "source": [
    "add_arg(5,9)"
   ]
  },
  {
   "cell_type": "code",
   "execution_count": 3,
   "id": "b11d9139-05c9-4586-abd6-462a49716cb8",
   "metadata": {},
   "outputs": [],
   "source": [
    "def sum_args(*args):\n",
    "    return sum(args)"
   ]
  },
  {
   "cell_type": "code",
   "execution_count": 4,
   "id": "6460efbf-8495-4358-8584-c6dbfdc8d6b8",
   "metadata": {},
   "outputs": [],
   "source": [
    "def return_sum_positional_args(func,*args):\n",
    "    return func(*args)"
   ]
  },
  {
   "cell_type": "code",
   "execution_count": 5,
   "id": "f81d4370-f715-4ca2-a8f0-c231f82d2c9a",
   "metadata": {},
   "outputs": [
    {
     "data": {
      "text/plain": [
       "10"
      ]
     },
     "execution_count": 5,
     "metadata": {},
     "output_type": "execute_result"
    }
   ],
   "source": [
    "return_sum_positional_args(sum_args,1,2,3,4)"
   ]
  },
  {
   "cell_type": "code",
   "execution_count": 6,
   "id": "8009959a-c066-46c1-acee-b740c801ae96",
   "metadata": {},
   "outputs": [],
   "source": [
    "#global variable "
   ]
  },
  {
   "cell_type": "code",
   "execution_count": 7,
   "id": "23b0fda9-7c7e-452a-91e7-d2ab3c2cdfef",
   "metadata": {},
   "outputs": [],
   "source": [
    "animal='mouse'\n",
    "def print_global():\n",
    "    print('global_variable',animal)"
   ]
  },
  {
   "cell_type": "code",
   "execution_count": 8,
   "id": "eba8d1c4-7239-4c75-947f-4d9aee6fc3bf",
   "metadata": {},
   "outputs": [
    {
     "name": "stdout",
     "output_type": "stream",
     "text": [
      "global_variable mouse\n"
     ]
    }
   ],
   "source": [
    "print_global()"
   ]
  },
  {
   "cell_type": "code",
   "execution_count": 9,
   "id": "dff6161c-7dde-416c-84c7-bb4e8c3abab8",
   "metadata": {},
   "outputs": [],
   "source": [
    "def change_global_variable():\n",
    "    global animal\n",
    "    animal='rabbit'\n",
    "    print('change_global_variable',animal)"
   ]
  },
  {
   "cell_type": "code",
   "execution_count": 10,
   "id": "51bab0e6-f0f2-4d6f-9efe-7fd9dae4cab8",
   "metadata": {},
   "outputs": [
    {
     "name": "stdout",
     "output_type": "stream",
     "text": [
      "change_global_variable rabbit\n"
     ]
    }
   ],
   "source": [
    "change_global_variable()"
   ]
  },
  {
   "cell_type": "code",
   "execution_count": null,
   "id": "310073fa-4aef-4dfa-95c0-4cb3522281e6",
   "metadata": {},
   "outputs": [],
   "source": []
  }
 ],
 "metadata": {
  "kernelspec": {
   "display_name": "Python 3 (ipykernel)",
   "language": "python",
   "name": "python3"
  },
  "language_info": {
   "codemirror_mode": {
    "name": "ipython",
    "version": 3
   },
   "file_extension": ".py",
   "mimetype": "text/x-python",
   "name": "python",
   "nbconvert_exporter": "python",
   "pygments_lexer": "ipython3",
   "version": "3.9.7"
  }
 },
 "nbformat": 4,
 "nbformat_minor": 5
}
