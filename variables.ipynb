{
 "cells": [
  {
   "cell_type": "code",
   "execution_count": 1,
   "id": "ed028701-8ff4-420b-b336-8bf36e7e276e",
   "metadata": {},
   "outputs": [],
   "source": [
    "message = \"What’s up, Doc?\" "
   ]
  },
  {
   "cell_type": "code",
   "execution_count": 2,
   "id": "290c2e45-bfe7-4b45-a9a4-d5a6508dac5d",
   "metadata": {},
   "outputs": [
    {
     "data": {
      "text/plain": [
       "'What’s up, Doc?'"
      ]
     },
     "execution_count": 2,
     "metadata": {},
     "output_type": "execute_result"
    }
   ],
   "source": [
    "message"
   ]
  },
  {
   "cell_type": "code",
   "execution_count": 3,
   "id": "c9b4bd9f-e62e-415d-90d0-ec3a560347a2",
   "metadata": {},
   "outputs": [],
   "source": [
    "n = 17"
   ]
  },
  {
   "cell_type": "code",
   "execution_count": 4,
   "id": "3c129c5e-7713-41b7-83b1-dd37ffd101e4",
   "metadata": {},
   "outputs": [
    {
     "data": {
      "text/plain": [
       "17"
      ]
     },
     "execution_count": 4,
     "metadata": {},
     "output_type": "execute_result"
    }
   ],
   "source": [
    "n"
   ]
  },
  {
   "cell_type": "code",
   "execution_count": 5,
   "id": "52f48981-2f01-4d4b-8c23-5381bfbc87d4",
   "metadata": {},
   "outputs": [],
   "source": [
    "pi = 3.14159"
   ]
  },
  {
   "cell_type": "code",
   "execution_count": 6,
   "id": "d76f77c9-3750-49af-873b-77f2acf02d07",
   "metadata": {},
   "outputs": [
    {
     "data": {
      "text/plain": [
       "3.14159"
      ]
     },
     "execution_count": 6,
     "metadata": {},
     "output_type": "execute_result"
    }
   ],
   "source": [
    "pi"
   ]
  },
  {
   "cell_type": "code",
   "execution_count": 7,
   "id": "bf874095-54a7-42d0-b581-08edf7f1d64f",
   "metadata": {},
   "outputs": [
    {
     "data": {
      "text/plain": [
       "2"
      ]
     },
     "execution_count": 7,
     "metadata": {},
     "output_type": "execute_result"
    }
   ],
   "source": [
    "1+1"
   ]
  },
  {
   "cell_type": "code",
   "execution_count": 8,
   "id": "b0a2b67f-a982-4f39-b947-ec31c1a4611b",
   "metadata": {},
   "outputs": [
    {
     "data": {
      "text/plain": [
       "52"
      ]
     },
     "execution_count": 8,
     "metadata": {},
     "output_type": "execute_result"
    }
   ],
   "source": [
    "20+32"
   ]
  },
  {
   "cell_type": "code",
   "execution_count": 10,
   "id": "a4a90e9f-a5d9-40a6-85bd-ac640ae75c85",
   "metadata": {},
   "outputs": [
    {
     "data": {
      "text/plain": [
       "'banana nut bread'"
      ]
     },
     "execution_count": 10,
     "metadata": {},
     "output_type": "execute_result"
    }
   ],
   "source": [
    "fruit = \"banana\"\n",
    "bakedGood = \" nut bread\"\n",
    "fruit + bakedGood"
   ]
  },
  {
   "cell_type": "code",
   "execution_count": null,
   "id": "a0b1f317-4fd5-4e65-8430-87cac621a0e3",
   "metadata": {},
   "outputs": [],
   "source": []
  }
 ],
 "metadata": {
  "kernelspec": {
   "display_name": "Python 3 (ipykernel)",
   "language": "python",
   "name": "python3"
  },
  "language_info": {
   "codemirror_mode": {
    "name": "ipython",
    "version": 3
   },
   "file_extension": ".py",
   "mimetype": "text/x-python",
   "name": "python",
   "nbconvert_exporter": "python",
   "pygments_lexer": "ipython3",
   "version": "3.9.7"
  }
 },
 "nbformat": 4,
 "nbformat_minor": 5
}
