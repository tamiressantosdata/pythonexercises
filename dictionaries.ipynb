{
 "cells": [
  {
   "cell_type": "code",
   "execution_count": 1,
   "id": "57e5cd69-6ccb-46b9-92fd-0e8ca2ee4fef",
   "metadata": {},
   "outputs": [],
   "source": [
    "lol=[['a','b'],['c','d'],['e','f']]"
   ]
  },
  {
   "cell_type": "code",
   "execution_count": 2,
   "id": "53c3c541-15e9-4f21-a5bf-288cb57425d6",
   "metadata": {},
   "outputs": [
    {
     "data": {
      "text/plain": [
       "{'a': 'b', 'c': 'd', 'e': 'f'}"
      ]
     },
     "execution_count": 2,
     "metadata": {},
     "output_type": "execute_result"
    }
   ],
   "source": [
    "dict(lol)"
   ]
  },
  {
   "cell_type": "code",
   "execution_count": 4,
   "id": "b1acf807-5247-41ee-84df-5b5b311e511b",
   "metadata": {},
   "outputs": [],
   "source": [
    "lot=[('a','b'),('c','d'),('e','f')]"
   ]
  },
  {
   "cell_type": "code",
   "execution_count": 5,
   "id": "491868e6-810f-41d5-930f-2e8eb05add12",
   "metadata": {},
   "outputs": [
    {
     "data": {
      "text/plain": [
       "{'a': 'b', 'c': 'd', 'e': 'f'}"
      ]
     },
     "execution_count": 5,
     "metadata": {},
     "output_type": "execute_result"
    }
   ],
   "source": [
    "dict(lot)"
   ]
  },
  {
   "cell_type": "code",
   "execution_count": 7,
   "id": "844008bd-52f8-4a6e-8c30-02c77de51d73",
   "metadata": {},
   "outputs": [],
   "source": [
    "signals = {'green': 'go', 'yellow': 'go faster', 'red': 'smile for the camera'}\n"
   ]
  },
  {
   "cell_type": "code",
   "execution_count": 9,
   "id": "de3b6b64-e808-4531-b6c0-40180a60514f",
   "metadata": {},
   "outputs": [
    {
     "data": {
      "text/plain": [
       "dict_keys(['green', 'yellow', 'red'])"
      ]
     },
     "execution_count": 9,
     "metadata": {},
     "output_type": "execute_result"
    }
   ],
   "source": [
    "signals.keys()"
   ]
  },
  {
   "cell_type": "code",
   "execution_count": 46,
   "id": "061a6696-673a-4927-a393-4d97c64a2365",
   "metadata": {},
   "outputs": [
    {
     "data": {
      "text/plain": [
       "['green', 'yellow', 'red']"
      ]
     },
     "execution_count": 46,
     "metadata": {},
     "output_type": "execute_result"
    }
   ],
   "source": [
    "list( signals.keys() )"
   ]
  },
  {
   "cell_type": "code",
   "execution_count": 10,
   "id": "76195963-adc7-40bf-ba5b-5a90eb42d047",
   "metadata": {},
   "outputs": [
    {
     "data": {
      "text/plain": [
       "dict_values(['go', 'go faster', 'smile for the camera'])"
      ]
     },
     "execution_count": 10,
     "metadata": {},
     "output_type": "execute_result"
    }
   ],
   "source": [
    "signals.values()"
   ]
  },
  {
   "cell_type": "code",
   "execution_count": 11,
   "id": "53c53b89-a353-43f2-b581-f50729f29d6d",
   "metadata": {},
   "outputs": [],
   "source": [
    "first = {'a': 1, 'b': 2}\n"
   ]
  },
  {
   "cell_type": "code",
   "execution_count": 12,
   "id": "7916a703-fa00-4349-82ba-9831e1960d2a",
   "metadata": {},
   "outputs": [],
   "source": [
    "second = {'b': 'platypus'}"
   ]
  },
  {
   "cell_type": "code",
   "execution_count": 13,
   "id": "dcd4da69-dab4-4524-9806-5575ce73c56c",
   "metadata": {},
   "outputs": [],
   "source": [
    "first.update(second)"
   ]
  },
  {
   "cell_type": "code",
   "execution_count": 14,
   "id": "60529004-0bcf-493e-a658-049240faaa5d",
   "metadata": {},
   "outputs": [
    {
     "data": {
      "text/plain": [
       "{'a': 1, 'b': 'platypus'}"
      ]
     },
     "execution_count": 14,
     "metadata": {},
     "output_type": "execute_result"
    }
   ],
   "source": [
    "first"
   ]
  },
  {
   "cell_type": "code",
   "execution_count": 15,
   "id": "ad489e1b-45f1-4c39-ae1a-de6da1284120",
   "metadata": {},
   "outputs": [],
   "source": [
    "first.clear()"
   ]
  },
  {
   "cell_type": "code",
   "execution_count": 16,
   "id": "ad9ff9e9-8329-4f61-9570-faf438a9db4c",
   "metadata": {},
   "outputs": [
    {
     "data": {
      "text/plain": [
       "{}"
      ]
     },
     "execution_count": 16,
     "metadata": {},
     "output_type": "execute_result"
    }
   ],
   "source": [
    "first"
   ]
  },
  {
   "cell_type": "code",
   "execution_count": 19,
   "id": "3417eee9-dd9b-4285-b546-ba3abb57996b",
   "metadata": {},
   "outputs": [],
   "source": [
    "names={'Chapman': 'Graham', 'Cleese': 'John',\n",
    "'Jones': 'Terry', 'Palin': 'Michael'}"
   ]
  },
  {
   "cell_type": "code",
   "execution_count": 21,
   "id": "e6fa2f26-c9d6-436b-ac44-777c3378e066",
   "metadata": {},
   "outputs": [
    {
     "data": {
      "text/plain": [
       "True"
      ]
     },
     "execution_count": 21,
     "metadata": {},
     "output_type": "execute_result"
    }
   ],
   "source": [
    "'Chapman' in names"
   ]
  },
  {
   "cell_type": "code",
   "execution_count": 23,
   "id": "f33fd0fc-989a-4f54-ad9b-2bc467cb0823",
   "metadata": {},
   "outputs": [
    {
     "data": {
      "text/plain": [
       "False"
      ]
     },
     "execution_count": 23,
     "metadata": {},
     "output_type": "execute_result"
    }
   ],
   "source": [
    "'Mary' in names "
   ]
  },
  {
   "cell_type": "code",
   "execution_count": 26,
   "id": "87ba1820-98f1-457c-92dc-83ac66368981",
   "metadata": {},
   "outputs": [],
   "source": [
    "names['Tamires']= 'Soares'"
   ]
  },
  {
   "cell_type": "code",
   "execution_count": 27,
   "id": "2f01c541-cf9a-43d6-9c44-0c73156970a6",
   "metadata": {},
   "outputs": [
    {
     "data": {
      "text/plain": [
       "{'Chapman': 'Graham',\n",
       " 'Cleese': 'John',\n",
       " 'Jones': 'Terry',\n",
       " 'Palin': 'Michael',\n",
       " 'Tamires': 'Soares'}"
      ]
     },
     "execution_count": 27,
     "metadata": {},
     "output_type": "execute_result"
    }
   ],
   "source": [
    "names"
   ]
  },
  {
   "cell_type": "code",
   "execution_count": 30,
   "id": "9983d452-cd04-4501-823a-b6b93121f99c",
   "metadata": {},
   "outputs": [],
   "source": [
    "names1={'Maria':'Silva','Jose': 'Raimundo', 'Roberto':'Carlos'}"
   ]
  },
  {
   "cell_type": "code",
   "execution_count": 31,
   "id": "ccb14567-290d-4035-84c5-0ee7d0b9b1a6",
   "metadata": {},
   "outputs": [],
   "source": [
    "names.update(names1)"
   ]
  },
  {
   "cell_type": "code",
   "execution_count": 32,
   "id": "21f7a619-1621-4b7d-ab4d-012e0e0b640c",
   "metadata": {},
   "outputs": [
    {
     "data": {
      "text/plain": [
       "{'Chapman': 'Graham',\n",
       " 'Cleese': 'John',\n",
       " 'Jones': 'Terry',\n",
       " 'Palin': 'Michael',\n",
       " 'Tamires': 'Soares',\n",
       " 'Maria': 'Silva',\n",
       " 'Jose': 'Raimundo',\n",
       " 'Roberto': 'Carlos'}"
      ]
     },
     "execution_count": 32,
     "metadata": {},
     "output_type": "execute_result"
    }
   ],
   "source": [
    "names"
   ]
  },
  {
   "cell_type": "code",
   "execution_count": 34,
   "id": "18a5b0d4-eaad-4703-b8d7-73a5d11f30e8",
   "metadata": {},
   "outputs": [],
   "source": [
    "del names['Chapman']"
   ]
  },
  {
   "cell_type": "code",
   "execution_count": 35,
   "id": "3cd6aa9e-3e4f-4fc9-8376-46f1efc8b3ce",
   "metadata": {},
   "outputs": [
    {
     "data": {
      "text/plain": [
       "{'Cleese': 'John',\n",
       " 'Jones': 'Terry',\n",
       " 'Palin': 'Michael',\n",
       " 'Tamires': 'Soares',\n",
       " 'Maria': 'Silva',\n",
       " 'Jose': 'Raimundo',\n",
       " 'Roberto': 'Carlos'}"
      ]
     },
     "execution_count": 35,
     "metadata": {},
     "output_type": "execute_result"
    }
   ],
   "source": [
    "names"
   ]
  },
  {
   "cell_type": "code",
   "execution_count": 42,
   "id": "0e269db2-039e-42da-b32e-07689579044e",
   "metadata": {},
   "outputs": [
    {
     "name": "stdout",
     "output_type": "stream",
     "text": [
      "Soares\n"
     ]
    }
   ],
   "source": [
    "print(names.get('Tamires'))"
   ]
  },
  {
   "cell_type": "code",
   "execution_count": 45,
   "id": "3b466893-9e43-4a8a-8ebf-2e65e230b6a6",
   "metadata": {},
   "outputs": [
    {
     "name": "stdout",
     "output_type": "stream",
     "text": [
      "Terry\n"
     ]
    }
   ],
   "source": [
    "print(names.get('Jones'))"
   ]
  },
  {
   "cell_type": "code",
   "execution_count": 47,
   "id": "103ceda5-3fb8-4e9b-8869-acf51f8905e9",
   "metadata": {},
   "outputs": [
    {
     "data": {
      "text/plain": [
       "['go', 'go faster', 'smile for the camera']"
      ]
     },
     "execution_count": 47,
     "metadata": {},
     "output_type": "execute_result"
    }
   ],
   "source": [
    "list(signals.values())"
   ]
  },
  {
   "cell_type": "code",
   "execution_count": 48,
   "id": "660b18fc-eecd-40a7-86f8-00f201d02925",
   "metadata": {},
   "outputs": [
    {
     "data": {
      "text/plain": [
       "[('green', 'go'), ('yellow', 'go faster'), ('red', 'smile for the camera')]"
      ]
     },
     "execution_count": 48,
     "metadata": {},
     "output_type": "execute_result"
    }
   ],
   "source": [
    "list(signals.items())"
   ]
  },
  {
   "cell_type": "code",
   "execution_count": 49,
   "id": "01f0f5ab-1464-44f8-acbd-326d4174e6f2",
   "metadata": {},
   "outputs": [],
   "source": [
    "signals = {'green': 'go', 'yellow': 'go faster', 'red': 'smile for thecamera'}"
   ]
  },
  {
   "cell_type": "code",
   "execution_count": 50,
   "id": "bffc86e9-6e87-4e05-8d1a-b3cb44a48e2c",
   "metadata": {},
   "outputs": [],
   "source": [
    "original_signals = signals.copy()"
   ]
  },
  {
   "cell_type": "code",
   "execution_count": 51,
   "id": "a50f3410-02de-47d5-b78f-45d302a5f8ad",
   "metadata": {},
   "outputs": [],
   "source": [
    "signals['Blue']= 'do not exist'"
   ]
  },
  {
   "cell_type": "code",
   "execution_count": 52,
   "id": "11a99fa6-5c99-4fd9-a4af-3ae4f6daf82b",
   "metadata": {},
   "outputs": [
    {
     "data": {
      "text/plain": [
       "{'green': 'go',\n",
       " 'yellow': 'go faster',\n",
       " 'red': 'smile for thecamera',\n",
       " 'Blue': 'do not exist'}"
      ]
     },
     "execution_count": 52,
     "metadata": {},
     "output_type": "execute_result"
    }
   ],
   "source": [
    "signals"
   ]
  },
  {
   "cell_type": "code",
   "execution_count": 53,
   "id": "ae1e8508-52f5-4854-b1fa-f9988442670e",
   "metadata": {},
   "outputs": [
    {
     "data": {
      "text/plain": [
       "{'green': 'go', 'yellow': 'go faster', 'red': 'smile for thecamera'}"
      ]
     },
     "execution_count": 53,
     "metadata": {},
     "output_type": "execute_result"
    }
   ],
   "source": [
    "original_signals"
   ]
  },
  {
   "cell_type": "code",
   "execution_count": 54,
   "id": "745acf2c-cdb0-48b1-b2d1-7845e8d825cf",
   "metadata": {},
   "outputs": [
    {
     "data": {
      "text/plain": [
       "{'e', 'l', 'r', 's', 't'}"
      ]
     },
     "execution_count": 54,
     "metadata": {},
     "output_type": "execute_result"
    }
   ],
   "source": [
    "set( 'letters' )\n"
   ]
  },
  {
   "cell_type": "code",
   "execution_count": null,
   "id": "c70f172c-83ab-433b-bc09-0a3d543784a8",
   "metadata": {},
   "outputs": [],
   "source": []
  }
 ],
 "metadata": {
  "kernelspec": {
   "display_name": "Python 3 (ipykernel)",
   "language": "python",
   "name": "python3"
  },
  "language_info": {
   "codemirror_mode": {
    "name": "ipython",
    "version": 3
   },
   "file_extension": ".py",
   "mimetype": "text/x-python",
   "name": "python",
   "nbconvert_exporter": "python",
   "pygments_lexer": "ipython3",
   "version": "3.9.7"
  }
 },
 "nbformat": 4,
 "nbformat_minor": 5
}
