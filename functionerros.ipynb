{
 "cells": [
  {
   "cell_type": "code",
   "execution_count": 4,
   "id": "7954c793-cbd6-41fe-b411-1707f7c91b65",
   "metadata": {},
   "outputs": [
    {
     "data": {
      "text/plain": [
       "3"
      ]
     },
     "execution_count": 4,
     "metadata": {},
     "output_type": "execute_result"
    }
   ],
   "source": [
    "def add_arg(arg1,arg2):\n",
    "    return arg1 +arg2\n",
    "add_arg(1,2)\n"
   ]
  },
  {
   "cell_type": "code",
   "execution_count": 8,
   "id": "5688d570-772a-4db1-9dd2-86927b56b1c1",
   "metadata": {},
   "outputs": [],
   "source": [
    "def run_something_with_args(func,arg1,arg2):\n",
    "    func(arg1,arg2)\n",
    "    \n",
    "run_something_with_args(add_arg, 5, 9)"
   ]
  },
  {
   "cell_type": "code",
   "execution_count": 9,
   "id": "8033d4db-6e25-4265-ac2c-67a0f590b785",
   "metadata": {},
   "outputs": [
    {
     "data": {
      "text/plain": [
       "14"
      ]
     },
     "execution_count": 9,
     "metadata": {},
     "output_type": "execute_result"
    }
   ],
   "source": [
    "add_arg(5,9)"
   ]
  },
  {
   "cell_type": "code",
   "execution_count": null,
   "id": "b11d9139-05c9-4586-abd6-462a49716cb8",
   "metadata": {},
   "outputs": [],
   "source": []
  },
  {
   "cell_type": "code",
   "execution_count": null,
   "id": "6460efbf-8495-4358-8584-c6dbfdc8d6b8",
   "metadata": {},
   "outputs": [],
   "source": []
  },
  {
   "cell_type": "code",
   "execution_count": null,
   "id": "f81d4370-f715-4ca2-a8f0-c231f82d2c9a",
   "metadata": {},
   "outputs": [],
   "source": []
  }
 ],
 "metadata": {
  "kernelspec": {
   "display_name": "Python 3 (ipykernel)",
   "language": "python",
   "name": "python3"
  },
  "language_info": {
   "codemirror_mode": {
    "name": "ipython",
    "version": 3
   },
   "file_extension": ".py",
   "mimetype": "text/x-python",
   "name": "python",
   "nbconvert_exporter": "python",
   "pygments_lexer": "ipython3",
   "version": "3.9.7"
  }
 },
 "nbformat": 4,
 "nbformat_minor": 5
}
