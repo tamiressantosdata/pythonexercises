{
 "cells": [
  {
   "cell_type": "code",
   "execution_count": 1,
   "id": "88fb9c0b-b480-4732-b03e-17ffb3c02938",
   "metadata": {},
   "outputs": [],
   "source": [
    " tt = (1, 2, (30, 40))"
   ]
  },
  {
   "cell_type": "code",
   "execution_count": 3,
   "id": "74e0ee0f-7824-4974-9d9d-fe0bd43294f7",
   "metadata": {},
   "outputs": [
    {
     "data": {
      "text/plain": [
       "-3907003130834322577"
      ]
     },
     "execution_count": 3,
     "metadata": {},
     "output_type": "execute_result"
    }
   ],
   "source": [
    " hash(tt)"
   ]
  },
  {
   "cell_type": "code",
   "execution_count": 4,
   "id": "8a74ff08-6c96-4c8f-add6-a0865168b00f",
   "metadata": {},
   "outputs": [],
   "source": [
    "tl = (1, 2, [30, 40])"
   ]
  },
  {
   "cell_type": "code",
   "execution_count": 6,
   "id": "267f720b-c2ea-40a1-9231-9810cb007727",
   "metadata": {},
   "outputs": [
    {
     "ename": "TypeError",
     "evalue": "unhashable type: 'list'",
     "output_type": "error",
     "traceback": [
      "\u001b[1;31m---------------------------------------------------------------------------\u001b[0m",
      "\u001b[1;31mTypeError\u001b[0m                                 Traceback (most recent call last)",
      "\u001b[1;32m~\\AppData\\Local\\Temp/ipykernel_15120/2546702410.py\u001b[0m in \u001b[0;36m<module>\u001b[1;34m\u001b[0m\n\u001b[1;32m----> 1\u001b[1;33m \u001b[0mhash\u001b[0m\u001b[1;33m(\u001b[0m\u001b[0mtl\u001b[0m\u001b[1;33m)\u001b[0m\u001b[1;33m\u001b[0m\u001b[1;33m\u001b[0m\u001b[0m\n\u001b[0m",
      "\u001b[1;31mTypeError\u001b[0m: unhashable type: 'list'"
     ]
    }
   ],
   "source": [
    "hash(tl)"
   ]
  },
  {
   "cell_type": "code",
   "execution_count": 7,
   "id": "e798ed64-9914-4e73-ad4d-05cef739ec0d",
   "metadata": {},
   "outputs": [],
   "source": [
    " tf = (1, 2, frozenset([30, 40]))"
   ]
  },
  {
   "cell_type": "code",
   "execution_count": 8,
   "id": "74649587-76b0-4acd-a52c-0b790809984a",
   "metadata": {},
   "outputs": [
    {
     "data": {
      "text/plain": [
       "5149391500123939311"
      ]
     },
     "execution_count": 8,
     "metadata": {},
     "output_type": "execute_result"
    }
   ],
   "source": [
    "hash(tf)"
   ]
  },
  {
   "cell_type": "code",
   "execution_count": null,
   "id": "a442794b-5383-4410-a87c-a5e7c13934ea",
   "metadata": {},
   "outputs": [],
   "source": []
  }
 ],
 "metadata": {
  "kernelspec": {
   "display_name": "Python 3 (ipykernel)",
   "language": "python",
   "name": "python3"
  },
  "language_info": {
   "codemirror_mode": {
    "name": "ipython",
    "version": 3
   },
   "file_extension": ".py",
   "mimetype": "text/x-python",
   "name": "python",
   "nbconvert_exporter": "python",
   "pygments_lexer": "ipython3",
   "version": "3.9.7"
  }
 },
 "nbformat": 4,
 "nbformat_minor": 5
}
