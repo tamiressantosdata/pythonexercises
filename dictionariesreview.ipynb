{
 "cells": [
  {
   "cell_type": "code",
   "execution_count": 1,
   "id": "d5c63b8d-ac93-4ca2-9047-da5c08b843a3",
   "metadata": {},
   "outputs": [],
   "source": [
    "#dictionaries"
   ]
  },
  {
   "cell_type": "code",
   "execution_count": 2,
   "id": "8d2ed95a-4cf0-4098-a000-e2132ae3cf35",
   "metadata": {},
   "outputs": [
    {
     "data": {
      "text/plain": [
       "{'jack': 4098, 'sjoerd': 4127}"
      ]
     },
     "execution_count": 2,
     "metadata": {},
     "output_type": "execute_result"
    }
   ],
   "source": [
    "{'jack': 4098, 'sjoerd': 4127} #Use a comma-separated list of key: value pairs within braces"
   ]
  },
  {
   "cell_type": "code",
   "execution_count": 3,
   "id": "f452fd95-6103-49e2-8de7-d23d1c0ba55b",
   "metadata": {},
   "outputs": [
    {
     "data": {
      "text/plain": [
       "{0: 0, 1: 1, 2: 4, 3: 9, 4: 16, 5: 25, 6: 36, 7: 49, 8: 64, 9: 81}"
      ]
     },
     "execution_count": 3,
     "metadata": {},
     "output_type": "execute_result"
    }
   ],
   "source": [
    "{x: x ** 2 for x in range(10)} #dict comprehension"
   ]
  },
  {
   "cell_type": "code",
   "execution_count": 5,
   "id": "33f98f62-536d-4e43-9a1e-7a16a6a9c426",
   "metadata": {},
   "outputs": [
    {
     "data": {
      "text/plain": [
       "({'foo': 100, 'bar': 200}, {'foo': 100, 'bar': 200})"
      ]
     },
     "execution_count": 5,
     "metadata": {},
     "output_type": "execute_result"
    }
   ],
   "source": [
    "dict([('foo', 100), ('bar', 200)]), dict(foo=100, bar=200)"
   ]
  },
  {
   "cell_type": "code",
   "execution_count": 6,
   "id": "dcb25447-f5ad-494c-ad79-c94b0de835f8",
   "metadata": {},
   "outputs": [],
   "source": [
    "#Dictionaries can be created by placing a comma-separated list of key: value pairs within braces, for example: {'jack': 4098, 'sjoerd': 4127} or {4098: 'jack', 4127: 'sjoerd'}, or by the dict constructor."
   ]
  },
  {
   "cell_type": "code",
   "execution_count": 7,
   "id": "0e95765e-05a9-4c0b-9d23-b45fc0f85cbc",
   "metadata": {},
   "outputs": [],
   "source": [
    " a = dict(one=1, two=2, three=3)"
   ]
  },
  {
   "cell_type": "code",
   "execution_count": 8,
   "id": "28bacb5e-e06a-46a6-8541-f96f1eac04d0",
   "metadata": {},
   "outputs": [
    {
     "data": {
      "text/plain": [
       "{'one': 1, 'two': 2, 'three': 3}"
      ]
     },
     "execution_count": 8,
     "metadata": {},
     "output_type": "execute_result"
    }
   ],
   "source": [
    "a"
   ]
  },
  {
   "cell_type": "code",
   "execution_count": 9,
   "id": "fef618ee-e8bd-45d8-95e2-9b19c9e78903",
   "metadata": {},
   "outputs": [],
   "source": [
    "b = {'one': 1, 'two': 2, 'three': 3}"
   ]
  },
  {
   "cell_type": "code",
   "execution_count": 10,
   "id": "db3fce45-019b-4d03-af22-7877d7e972ef",
   "metadata": {},
   "outputs": [
    {
     "data": {
      "text/plain": [
       "{'one': 1, 'two': 2, 'three': 3}"
      ]
     },
     "execution_count": 10,
     "metadata": {},
     "output_type": "execute_result"
    }
   ],
   "source": [
    "b"
   ]
  },
  {
   "cell_type": "code",
   "execution_count": 11,
   "id": "053ad97e-6c10-4f90-bffc-e94745ed3fae",
   "metadata": {},
   "outputs": [],
   "source": [
    "c = dict(zip(['one', 'two', 'three'], [1, 2, 3]))"
   ]
  },
  {
   "cell_type": "code",
   "execution_count": 12,
   "id": "8f54b89f-b4ed-4c2c-932b-f7ffb005b41f",
   "metadata": {},
   "outputs": [
    {
     "data": {
      "text/plain": [
       "{'one': 1, 'two': 2, 'three': 3}"
      ]
     },
     "execution_count": 12,
     "metadata": {},
     "output_type": "execute_result"
    }
   ],
   "source": [
    "c"
   ]
  },
  {
   "cell_type": "code",
   "execution_count": 13,
   "id": "8fdc3dfe-ceb9-4f35-817c-486cc13bbf17",
   "metadata": {},
   "outputs": [],
   "source": [
    "d = dict([('two', 2), ('one', 1), ('three', 3)])"
   ]
  },
  {
   "cell_type": "code",
   "execution_count": 14,
   "id": "87d4ab43-ddf0-4449-843d-73d688b8acb5",
   "metadata": {},
   "outputs": [
    {
     "data": {
      "text/plain": [
       "{'two': 2, 'one': 1, 'three': 3}"
      ]
     },
     "execution_count": 14,
     "metadata": {},
     "output_type": "execute_result"
    }
   ],
   "source": [
    "d"
   ]
  },
  {
   "cell_type": "code",
   "execution_count": 15,
   "id": "1f95c40c-3663-48f5-be52-c4a79a2973fa",
   "metadata": {},
   "outputs": [],
   "source": [
    "e = dict({'three': 3, 'one': 1, 'two': 2})"
   ]
  },
  {
   "cell_type": "code",
   "execution_count": 16,
   "id": "3b30646f-3312-49dd-9ab5-4825989061d7",
   "metadata": {},
   "outputs": [
    {
     "data": {
      "text/plain": [
       "{'three': 3, 'one': 1, 'two': 2}"
      ]
     },
     "execution_count": 16,
     "metadata": {},
     "output_type": "execute_result"
    }
   ],
   "source": [
    "e"
   ]
  },
  {
   "cell_type": "code",
   "execution_count": 17,
   "id": "c9c010fe-dd83-4ba7-93d1-230daf6a9745",
   "metadata": {},
   "outputs": [],
   "source": [
    "f = dict({'one': 1, 'three': 3}, two=2)"
   ]
  },
  {
   "cell_type": "code",
   "execution_count": 18,
   "id": "e5b3ee9e-7a41-486d-8e86-b2a80019c09c",
   "metadata": {},
   "outputs": [
    {
     "data": {
      "text/plain": [
       "{'one': 1, 'three': 3, 'two': 2}"
      ]
     },
     "execution_count": 18,
     "metadata": {},
     "output_type": "execute_result"
    }
   ],
   "source": [
    "f"
   ]
  },
  {
   "cell_type": "code",
   "execution_count": null,
   "id": "b12c0b53-3b9f-434f-9407-f1e22be5074c",
   "metadata": {},
   "outputs": [],
   "source": []
  }
 ],
 "metadata": {
  "kernelspec": {
   "display_name": "Python 3 (ipykernel)",
   "language": "python",
   "name": "python3"
  },
  "language_info": {
   "codemirror_mode": {
    "name": "ipython",
    "version": 3
   },
   "file_extension": ".py",
   "mimetype": "text/x-python",
   "name": "python",
   "nbconvert_exporter": "python",
   "pygments_lexer": "ipython3",
   "version": "3.9.7"
  }
 },
 "nbformat": 4,
 "nbformat_minor": 5
}
